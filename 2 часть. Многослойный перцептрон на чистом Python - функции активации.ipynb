{
 "cells": [
  {
   "cell_type": "code",
   "execution_count": 1,
   "id": "5bab7ced",
   "metadata": {},
   "outputs": [],
   "source": [
    "class Neural_Network(object):\n",
    "    def __init__(self):#, n_hidden, eta, epochs): \n",
    "        pass \n",
    "        \n",
    "    @staticmethod\n",
    "    def norm_matrix(matrix):\n",
    "        matrix_transpose = list(zip(*matrix))\n",
    "        matrix_empty = []\n",
    "        for m in range(len(matrix_transpose)):\n",
    "            normed_row = [abs(list(zip(*X))[m][x])/max(list(zip(*X))[m]) for x in range(len(list(zip(*X))[m]))]\n",
    "            matrix_empty.append(normed_row)\n",
    "        normed_matrix = list(zip(*matrix_empty))\n",
    "        return normed_matrix\n",
    "    \n",
    "    @staticmethod\n",
    "    def random_number():\n",
    "        import datetime    \n",
    "        my_dt_ob = datetime.datetime.now()\n",
    "        date_list = [my_dt_ob.year, my_dt_ob.month, my_dt_ob.day, my_dt_ob.hour, my_dt_ob.minute, my_dt_ob.second, my_dt_ob.microsecond]     \n",
    "        dt_random_num = date_list[6]**(1/(date_list[5]+0.0001))*date_list[4]\n",
    "        return dt_random_num  \n",
    "    \n",
    "    @staticmethod\n",
    "    def random_list_generator(list_len):\n",
    "        my_random_list = []\n",
    "        for i in range(list_len):\n",
    "            my_random_list_i = (i+1)*(Neural_Network.random_number()*(i+1)-i*2)\n",
    "            my_random_list.append(my_random_list_i-round(my_random_list_i))\n",
    "        return my_random_list\n",
    "   \n",
    "    @staticmethod\n",
    "    def random_matrix_generator(rows_len, cols_len):\n",
    "        my_random_chain = Neural_Network.random_list_generator(rows_len * cols_len)   \n",
    "        nev = [my_random_chain[i:i+cols_len] for i in range(0,len(my_random_chain), cols_len)]\n",
    "        return nev\n",
    "    \n",
    "    @staticmethod\n",
    "    def sigmoid(z):\n",
    "        #from math import exp\n",
    "        exp = 2.71828182845904523536028747135266249775724709369995\n",
    "        return 1/(1+exp**(-z))\n",
    "    \n",
    "    @staticmethod\n",
    "    def sigmoid_prime(z):\n",
    "        #from math import exp\n",
    "        exp = 2.71828182845904523536028747135266249775724709369995\n",
    "        return exp**(-z)/((1+exp**(-z))**2)\n",
    "\n",
    "    @staticmethod\n",
    "    def matrix_multiple(a,b):\n",
    "        zip_b = zip(*b)\n",
    "        zip_b = list(zip_b)\n",
    "        return [[sum(ele_a*ele_b for ele_a, ele_b in zip(row_a, col_b)) \n",
    "                 for col_b in zip_b] for row_a in a]\n",
    "    \n",
    "    @staticmethod\n",
    "    def matrix_diff(matrix1, matrix2):   \n",
    "        empty_chain = [None]*len(matrix1)*len(matrix1[0])\n",
    "        matrix_diff = [empty_chain[i:i+len(matrix1[0])] for i in range(0, len(empty_chain), len(matrix1[0]))]\n",
    "        for i in range(len(matrix1)):\n",
    "            for j in range(len(matrix1[0])):\n",
    "                matrix_diff[i][j] = matrix1[i][j] - matrix2[i][j]\n",
    "        return matrix_diff\n",
    "    \n",
    "    @staticmethod\n",
    "    def num_matrix(n, matrix):\n",
    "        return [list(map(lambda x: x*n, z)) for z in matrix]\n",
    "    \n",
    "    @staticmethod\n",
    "    def initial_weights_matrix_generator( X, n_hidden):\n",
    "        w_rows_list = [len(X[0])] + n_hidden\n",
    "        w_cols_list = n_hidden +[len(Y[0])]\n",
    "        w_dim_list = list(zip(w_rows_list, w_cols_list))\n",
    "        initial_weights_matrix_list = []\n",
    "        for i in range(len(w_dim_list)):\n",
    "            W_i = Neural_Network.random_matrix_generator(w_dim_list[i][0], w_dim_list[i][1])\n",
    "            initial_weights_matrix_list.append(W_i)\n",
    "        return initial_weights_matrix_list\n",
    "      \n",
    "    @staticmethod\n",
    "    def z_a_list_func(X, n_hidden, weights):\n",
    "        z_initial = Neural_Network.matrix_multiple(X, weights[0])\n",
    "        a_initial =  [*zip(*[[Neural_Network.sigmoid(z_initial[i][j]) for i in range(len(z_initial))] for j in range(len(z_initial[0]))])]\n",
    "\n",
    "        z_list = []\n",
    "        z_list.append(z_initial)\n",
    "\n",
    "        a_list = []\n",
    "        a_list.append(a_initial)\n",
    "\n",
    "        for g in range(len(n_hidden)):\n",
    "            z_g = Neural_Network.matrix_multiple(a_list[g], weights[g+1])\n",
    "            z_list.append(z_g)\n",
    "            a_g = [*zip(*[[Neural_Network.sigmoid(z_list[g+1][a][b]) for a in range(len(z_list[g+1]))] for b in range(len(z_list[g+1][0]))])]\n",
    "            a_list.append(a_g)\n",
    "        return z_list, a_list\n",
    "    \n",
    "    @staticmethod    \n",
    "    def prime(n_hidden, z_list_):\n",
    "        prime_list = []\n",
    "        for p in range(len(n_hidden)+1):\n",
    "            prime_list_p = [*zip(*[[Neural_Network.sigmoid_prime(z_list_[p][i][j]) for i in range(len(z_list_[p]))] for j in range(len(z_list_[p][0]))])]\n",
    "            prime_list.append(prime_list_p)\n",
    "        return prime_list\n",
    "    \n",
    "    @staticmethod    \n",
    "    def discrepansy(Y, a_list_):\n",
    "        discrepansy_list = []\n",
    "        for yy in range(len(Y)):\n",
    "            dis_i = Y[yy][0] - a_list_[-1][yy][0]\n",
    "            discrepansy_list.append(dis_i)\n",
    "        discrepansy_list = [discrepansy_list[i:i+len(Y[0])] for i in range(0,len(Y), len(Y[0]))]\n",
    "        return discrepansy_list\n",
    "    \n",
    "    @staticmethod    \n",
    "    def delta(Y, weights, discrepansy_, prime_):\n",
    "        delta_last = [[discrepansy_[q][0]*prime_[-1][q][0] for q in range(len(Y))][i:i+len(Y[0])] for i in range(0,len(Y), len(Y[0]))] \n",
    "        delta_list = []\n",
    "        delta_list.append(delta_last)\n",
    "        for d in range(len(n_hidden)):\n",
    "            delta_i = Neural_Network.matrix_multiple(delta_list[0], Neural_Network.matrix_multiple([*zip(*weights[-d-1])], prime_[-d-2]))\n",
    "            delta_list.insert(0, delta_i)\n",
    "        return delta_list\n",
    "    \n",
    "    @staticmethod    \n",
    "    def dEdW( X, n_hidden, a_list_, delta_):\n",
    "        dEdW_list = []\n",
    "        corr_list = [X]+a_list_[0:len(a_list_)-1]\n",
    "        for e in range(len(n_hidden)+1):\n",
    "            dEdW_e = Neural_Network.matrix_multiple([*zip(*corr_list[e])], delta_[e])\n",
    "            dEdW_list.append(dEdW_e)\n",
    "        return dEdW_list\n",
    "    \n",
    "    @staticmethod    \n",
    "    def weights_update(eta, weights, dEdW):\n",
    "        w_updated_matrix = []\n",
    "        for n in range(len(n_hidden)+1):\n",
    "            w_updated_n = Neural_Network.matrix_diff(weights[n], Neural_Network.num_matrix(-eta, dEdW[n]))\n",
    "            w_updated_matrix.append(w_updated_n)\n",
    "        return  w_updated_matrix\n",
    "    \n",
    "    @staticmethod\n",
    "    def calculus(X, Y, n_hidden, epochs, eta):\n",
    "        \n",
    "        X_normed = Neural_Network.norm_matrix(X)\n",
    "        Y_normed = Neural_Network.norm_matrix(Y)\n",
    "        \n",
    "        w_list_total = []\n",
    "        a_list_total= []\n",
    "        z_list_total= []\n",
    "        prime_list_total = []\n",
    "        discrepansy_list_total = []\n",
    "        delta_list_total = []\n",
    "        dEdW_list_total = []\n",
    "\n",
    "        #База индукции\n",
    "        w_0 = Neural_Network.initial_weights_matrix_generator(X_normed, n_hidden)\n",
    "        z_0, a_0 = Neural_Network.z_a_list_func(X_normed, n_hidden, w_0)\n",
    "        p_0 = Neural_Network.prime(n_hidden, z_0)\n",
    "        dis_0 = Neural_Network.discrepansy(Y_normed, a_0)\n",
    "        del_0 = Neural_Network.delta(Y_normed, w_0, dis_0, p_0)\n",
    "        dEdW_0 = Neural_Network.dEdW(X_normed, n_hidden, a_0, del_0)\n",
    "\n",
    "\n",
    "        w_list_total.append(w_0)\n",
    "        a_list_total.append(a_0)\n",
    "        z_list_total.append(z_0)\n",
    "        prime_list_total.append(p_0)\n",
    "        discrepansy_list_total.append(dis_0)\n",
    "        delta_list_total.append(del_0)\n",
    "        dEdW_list_total.append(dEdW_0)\n",
    "\n",
    "        for epoch in range(epochs):\n",
    "\n",
    "            z_a_list_epoch = Neural_Network.z_a_list_func(X, n_hidden, w_list_total[epoch])\n",
    "            a_list_total.append(z_a_list_epoch[0])\n",
    "            z_list_total.append(z_a_list_epoch[1])\n",
    "\n",
    "            prime_epoch = Neural_Network.prime(n_hidden, z_list_total[epoch])\n",
    "            prime_list_total.append(prime_epoch)\n",
    "\n",
    "            discrepansy_epoch = Neural_Network.discrepansy(Y_normed, a_list_total[epoch])\n",
    "            discrepansy_list_total.append(discrepansy_epoch)\n",
    "\n",
    "            delta_epoch = Neural_Network.delta(Y_normed, w_list_total[epoch], discrepansy_list_total[epoch], prime_list_total[epoch])\n",
    "            delta_list_total.append(delta_epoch)\n",
    "\n",
    "            dEdW_epoch = Neural_Network.dEdW(X_normed, n_hidden, a_list_total[epoch], delta_list_total[epoch])\n",
    "            dEdW_list_total.append(dEdW_epoch)\n",
    "\n",
    "            w_epoch = Neural_Network.weights_update(-eta, w_list_total[epoch], dEdW_list_total[epoch])\n",
    "            w_list_total.append(w_epoch)\n",
    "\n",
    "        return a_list_total, z_list_total, prime_list_total, discrepansy_list_total, delta_list_total, dEdW_list_total, w_list_total\n",
    "    "
   ]
  },
  {
   "cell_type": "code",
   "execution_count": 2,
   "id": "646d65a7",
   "metadata": {},
   "outputs": [],
   "source": [
    "X, Y = Neural_Network.random_matrix_generator(50, 7), Neural_Network.random_matrix_generator(50,1)"
   ]
  },
  {
   "cell_type": "code",
   "execution_count": 5,
   "id": "3fae0853",
   "metadata": {},
   "outputs": [],
   "source": [
    "n_hidden = [4, 17, 10, 2]\n",
    "epochs = 1000\n",
    "eta = 0.004"
   ]
  },
  {
   "cell_type": "code",
   "execution_count": 6,
   "id": "8d138ff9",
   "metadata": {},
   "outputs": [
    {
     "name": "stdout",
     "output_type": "stream",
     "text": [
      "CPU times: total: 10 s\n",
      "Wall time: 10 s\n"
     ]
    }
   ],
   "source": [
    "%%time\n",
    "NN_dis = Neural_Network.calculus(X, Y, n_hidden, epochs, eta)[3]"
   ]
  },
  {
   "cell_type": "code",
   "execution_count": 7,
   "id": "a7360832",
   "metadata": {},
   "outputs": [],
   "source": [
    "def MSE(NN_discrepansy):\n",
    "    loss_list = []\n",
    "    for loss in range(len(NN_discrepansy)):\n",
    "        loss_epoch = 0.5*sum([(NN_discrepansy[loss][i][0])**2 for i in range(len(NN_discrepansy[loss]))])\n",
    "        loss_list.append(loss_epoch)\n",
    "    return loss_list"
   ]
  },
  {
   "cell_type": "code",
   "execution_count": 8,
   "id": "3ecd6f0f",
   "metadata": {},
   "outputs": [],
   "source": [
    "MSE_list = MSE(NN_dis)"
   ]
  },
  {
   "cell_type": "code",
   "execution_count": 9,
   "id": "3c9a11e6",
   "metadata": {},
   "outputs": [
    {
     "data": {
      "image/png": "[encoded data removed]",
      "text/plain": [
       "<Figure size 800x600 with 1 Axes>"
      ]
     },
     "metadata": {},
     "output_type": "display_data"
    }
   ],
   "source": [
    "import matplotlib.pyplot as plt\n",
    "plt.figure(figsize=(8,6))\n",
    "plt.plot(range(2, len(MSE(NN_dis))), MSE_list[2:len(MSE_list)], label=f'MSE {n_hidden}, epochs={epochs}, eta={eta}')\n",
    "plt.legend()\n",
    "plt.show()"
   ]
  },
  {
   "cell_type": "markdown",
   "id": "5dd646eb",
   "metadata": {},
   "source": [
    "# Другие функции активации"
   ]
  },
  {
   "cell_type": "markdown",
   "id": "a0d2860f",
   "metadata": {},
   "source": [
    "Функция для построения графиков:"
   ]
  },
  {
   "cell_type": "code",
   "execution_count": 28,
   "id": "acefa946",
   "metadata": {},
   "outputs": [],
   "source": [
    "def func_plot(range_, act_fun):\n",
    "    range_ = range_\n",
    "    list_ = []\n",
    "    for r in range(len(range_ )):\n",
    "        point = act_fun(range_[r])\n",
    "        list_.append(point)\n",
    "    return list_"
   ]
  },
  {
   "cell_type": "markdown",
   "id": "eec7533b",
   "metadata": {},
   "source": [
    "## ReLu "
   ]
  },
  {
   "cell_type": "markdown",
   "id": "39c638eb",
   "metadata": {},
   "source": [
    "$$f(x) = x^+ = \\max(0, x) = \\frac{x+|x|}{2} = \\begin{cases}\n",
    "    x & \\text{if } x > 0, \\\\\n",
    "    0 & \\text{otherwise}.\n",
    "\\end{cases}\\\\\n",
    "f'(x) = \\begin{cases}\n",
    "    1 & \\text{if } x > 0, \\\\\n",
    "    0 & \\text{if } x < 0.\n",
    "\\end{cases}$$"
   ]
  },
  {
   "cell_type": "code",
   "execution_count": 12,
   "id": "39204a94",
   "metadata": {},
   "outputs": [],
   "source": [
    "def ReLu(z):\n",
    "    return z if z>0 else 0"
   ]
  },
  {
   "cell_type": "code",
   "execution_count": 30,
   "id": "7297deb2",
   "metadata": {},
   "outputs": [],
   "source": [
    "def ReLu_prime(z):\n",
    "    return 1 if z>=0 else 0"
   ]
  },
  {
   "cell_type": "code",
   "execution_count": 31,
   "id": "8128ce6c",
   "metadata": {},
   "outputs": [
    {
     "data": {
      "image/png": "[encoded data removed]",
      "text/plain": [
       "<Figure size 800x600 with 1 Axes>"
      ]
     },
     "metadata": {},
     "output_type": "display_data"
    }
   ],
   "source": [
    "z = list(i/10 for i in range(-50,50))\n",
    "r_list = []\n",
    "r1_list = []\n",
    "for k in range(len(z)):\n",
    "    r = ReLu(z[k])\n",
    "    r1 = ReLu_prime(z[k])\n",
    "    r_list.append(r)\n",
    "    r1_list.append(r1)\n",
    "plt.figure(figsize=(8,6))\n",
    "plt.plot(z, r_list , label=f'ReLu')\n",
    "plt.plot(z, r1_list , label=f'ReLu_prime')\n",
    "plt.legend()\n",
    "plt.show()"
   ]
  },
  {
   "cell_type": "markdown",
   "id": "7bf9dee9",
   "metadata": {},
   "source": [
    "## Гиперболический тангенс"
   ]
  },
  {
   "cell_type": "markdown",
   "id": "eae05026",
   "metadata": {},
   "source": [
    "$$f(x)=\\operatorname{th}x=\\frac{\\operatorname{sh}x}{\\operatorname{ch}x} = \\frac {e^x - e^{-x}} {e^x + e^{-x}} = \\frac{e^{2x} - 1} {e^{2x} + 1}=1-\\frac {2} {e^{2x} + 1}$$\n",
    "\n",
    "$$ f'(x)=1-\\frac{4e^{2x}}{\\left(e^{2x}+1\\right)^2}$$"
   ]
  },
  {
   "cell_type": "code",
   "execution_count": 25,
   "id": "92df13d0",
   "metadata": {},
   "outputs": [],
   "source": [
    "def tanh(z):\n",
    "    from math import exp\n",
    "    #exp = 2.71828182845904523536028747135266249775724709369995  \n",
    "    return 1-2/(1+exp(2*z))"
   ]
  },
  {
   "cell_type": "code",
   "execution_count": 26,
   "id": "a7d01e0c",
   "metadata": {},
   "outputs": [],
   "source": [
    "def tanh_prime(z):\n",
    "    from math import exp\n",
    "    #exp = 2.71828182845904523536028747135266249775724709369995  \n",
    "    return 1-4*exp(2*z)/(1+exp(2*z))**2"
   ]
  },
  {
   "cell_type": "code",
   "execution_count": 27,
   "id": "ca6fed63",
   "metadata": {},
   "outputs": [
    {
     "data": {
      "image/png": "[encoded data removed]",
      "text/plain": [
       "<Figure size 800x600 with 1 Axes>"
      ]
     },
     "metadata": {},
     "output_type": "display_data"
    }
   ],
   "source": [
    "z = list(i/10 for i in range(-50,50))\n",
    "r_list = []\n",
    "r1_list = []\n",
    "for k in range(len(z)):\n",
    "    r = tanh(z[k])\n",
    "    r1 = tanh_prime(z[k])\n",
    "    r_list.append(r)\n",
    "    r1_list.append(r1)\n",
    "plt.figure(figsize=(8,6))\n",
    "plt.plot(z, r_list , label=f'tanh')\n",
    "plt.plot(z, r1_list , label=f'tanh_prime')\n",
    "plt.legend()\n",
    "plt.show()\n"
   ]
  },
  {
   "cell_type": "code",
   "execution_count": null,
   "id": "e9e24423",
   "metadata": {},
   "outputs": [],
   "source": []
  },
  {
   "cell_type": "code",
   "execution_count": null,
   "id": "14efcd1d",
   "metadata": {},
   "outputs": [],
   "source": [
    "\n"
   ]
  },
  {
   "cell_type": "code",
   "execution_count": null,
   "id": "40d11b55",
   "metadata": {},
   "outputs": [],
   "source": []
  },
  {
   "cell_type": "code",
   "execution_count": null,
   "id": "bc59acb8",
   "metadata": {},
   "outputs": [],
   "source": []
  },
  {
   "cell_type": "code",
   "execution_count": null,
   "id": "8d4d3f02",
   "metadata": {},
   "outputs": [],
   "source": []
  },
  {
   "cell_type": "code",
   "execution_count": null,
   "id": "1a27be1e",
   "metadata": {},
   "outputs": [],
   "source": []
  },
  {
   "cell_type": "code",
   "execution_count": null,
   "id": "7f716151",
   "metadata": {},
   "outputs": [],
   "source": []
  },
  {
   "cell_type": "code",
   "execution_count": null,
   "id": "136dcb7f",
   "metadata": {},
   "outputs": [],
   "source": []
  },
  {
   "cell_type": "code",
   "execution_count": null,
   "id": "e92648b6",
   "metadata": {},
   "outputs": [],
   "source": []
  },
  {
   "cell_type": "code",
   "execution_count": null,
   "id": "98f617e5",
   "metadata": {},
   "outputs": [],
   "source": []
  },
  {
   "cell_type": "code",
   "execution_count": null,
   "id": "11827c44",
   "metadata": {},
   "outputs": [],
   "source": []
  },
  {
   "cell_type": "code",
   "execution_count": null,
   "id": "6198a019",
   "metadata": {},
   "outputs": [],
   "source": []
  },
  {
   "cell_type": "code",
   "execution_count": null,
   "id": "b5f0eec4",
   "metadata": {},
   "outputs": [],
   "source": []
  },
  {
   "cell_type": "code",
   "execution_count": null,
   "id": "503ca20f",
   "metadata": {},
   "outputs": [],
   "source": []
  }
 ],
 "metadata": {
  "kernelspec": {
   "display_name": "Python 3",
   "language": "python",
   "name": "python3"
  },
  "language_info": {
   "codemirror_mode": {
    "name": "ipython",
    "version": 3
   },
   "file_extension": ".py",
   "mimetype": "text/x-python",
   "name": "python",
   "nbconvert_exporter": "python",
   "pygments_lexer": "ipython3",
   "version": "3.9.7"
  }
 },
 "nbformat": 4,
 "nbformat_minor": 5
}
