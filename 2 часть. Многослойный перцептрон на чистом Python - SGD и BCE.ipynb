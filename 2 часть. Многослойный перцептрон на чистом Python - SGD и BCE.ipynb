{
 "cells": [
  {
   "cell_type": "code",
   "execution_count": 62,
   "id": "5bab7ced",
   "metadata": {
    "pycharm": {
     "name": "#%%\n"
    }
   },
   "outputs": [],
   "source": [
    "class Neural_Network(object):\n",
    "    def __init__(self):#, n_hidden, eta, epochs): \n",
    "        pass \n",
    "        \n",
    "    @staticmethod\n",
    "    def norm_matrix(matrix):\n",
    "\n",
    "        matrix_transpose = list(zip(*matrix))\n",
    "\n",
    "        matrix_empty = []\n",
    "        for m in range(len(matrix_transpose)):\n",
    "            normed_row = [abs(list(zip(*matrix))[m][x])/max(list(zip(*matrix))[m]) for x in range(len(list(zip(*matrix))[m]))]\n",
    "            matrix_empty.append(normed_row)\n",
    "\n",
    "        normed_matrix = list(zip(*matrix_empty))\n",
    "\n",
    "        return normed_matrix\n",
    "        \n",
    "    \n",
    "    @staticmethod\n",
    "    def random_number():\n",
    "        import datetime    \n",
    "        my_dt_ob = datetime.datetime.now()\n",
    "        date_list = [my_dt_ob.year, my_dt_ob.month, my_dt_ob.day, my_dt_ob.hour, my_dt_ob.minute, my_dt_ob.second, my_dt_ob.microsecond]     \n",
    "        dt_random_num = date_list[6]**(1/(date_list[5]+0.0001))*date_list[4]\n",
    "        return dt_random_num  \n",
    "    \n",
    "    @staticmethod\n",
    "    def random_list_generator(list_len):\n",
    "        my_random_list = []\n",
    "        for i in range(list_len):\n",
    "            my_random_list_i = (i+1)*(Neural_Network.random_number()*(i+1)-i*2)\n",
    "            my_random_list.append(my_random_list_i-round(my_random_list_i))\n",
    "        return my_random_list\n",
    "   \n",
    "    @staticmethod\n",
    "    def random_matrix_generator(rows_len, cols_len):\n",
    "        my_random_chain = Neural_Network.random_list_generator(rows_len * cols_len)   \n",
    "        nev = [my_random_chain[i:i+cols_len] for i in range(0,len(my_random_chain), cols_len)]\n",
    "        return nev\n",
    "    \n",
    "    '''@staticmethod\n",
    "    def ReLu(z):\n",
    "        return z if z>0 else 0\n",
    "    \n",
    "    @staticmethod\n",
    "    def ReLu_prime(z):\n",
    "        return 1 if z>=0 else 0'''\n",
    "\n",
    "    @staticmethod\n",
    "    def sigmoid(z):\n",
    "        from math import exp\n",
    "        # exp = 2.71828182845904523536028747135266249775724709369995\n",
    "        try:\n",
    "          res = 1/(1+exp(-z))\n",
    "        except OverflowError:\n",
    "          res = 0#float('inf')\n",
    "        return res\n",
    "    \n",
    "    @staticmethod\n",
    "    def sigmoid_prime(z):\n",
    "        from math import exp\n",
    "        # exp = 2.71828182845904523536028747135266249775724709369995\n",
    "        try:\n",
    "          res = exp(-z)/((1+exp(-z))**2)\n",
    "        except OverflowError:\n",
    "          res = 0#float('inf')\n",
    "        return res\n",
    "        # return exp(-z)/((1+exp(-z))**2)\n",
    "\n",
    "    @staticmethod\n",
    "    def matrix_multiple(a, b):\n",
    "        zip_b = zip(*b)\n",
    "        zip_b = list(zip_b)\n",
    "        return [[sum(ele_a*ele_b for ele_a, ele_b in zip(row_a, col_b)) \n",
    "                 for col_b in zip_b] for row_a in a]\n",
    "    \n",
    "    @staticmethod\n",
    "    def matrix_diff(matrix1, matrix2):   \n",
    "        empty_chain = [None]*len(matrix1)*len(matrix1[0])\n",
    "        matrix_diff = [empty_chain[i:i+len(matrix1[0])] for i in range(0, len(empty_chain), len(matrix1[0]))]\n",
    "        for ii in range(len(matrix1)):\n",
    "            for jj in range(len(matrix1[0])):\n",
    "                matrix_diff[ii][jj] = matrix1[ii][jj] - matrix2[ii][jj]\n",
    "        return matrix_diff\n",
    "    \n",
    "    @staticmethod\n",
    "    def num_matrix(n, matrix):\n",
    "        return [list(map(lambda x: x*n, z)) for z in matrix]\n",
    "    \n",
    "    @staticmethod\n",
    "    def initial_weights_matrix_generator(matrix_X, matrix_Y, n_hidden):\n",
    "        w_rows_list = [len(matrix_X[0])] + n_hidden\n",
    "        w_cols_list = n_hidden +[len(matrix_Y[0])]\n",
    "        w_dim_list = list(zip(w_rows_list, w_cols_list))\n",
    "        initial_weights_matrix_list = []\n",
    "        for iw in range(len(w_dim_list)):\n",
    "            W_i = Neural_Network.random_matrix_generator(w_dim_list[iw][0], w_dim_list[iw][1])\n",
    "            initial_weights_matrix_list.append(W_i)\n",
    "        return initial_weights_matrix_list\n",
    "      \n",
    "    @staticmethod\n",
    "    def z_a_list_func(X_, n_hidden, weights):\n",
    "        z_initial = Neural_Network.matrix_multiple(X_, weights[0])\n",
    "        a_initial =  [*zip(*[[Neural_Network.sigmoid(z_initial[i][j]) for i in range(len(z_initial))] for j in range(len(z_initial[0]))])]\n",
    "\n",
    "        z_list = []\n",
    "        z_list.append(z_initial)\n",
    "\n",
    "        a_list = []\n",
    "        a_list.append(a_initial)\n",
    "\n",
    "        for g in range(len(n_hidden)):\n",
    "            z_g = Neural_Network.matrix_multiple(a_list[g], weights[g+1])\n",
    "            z_list.append(z_g)\n",
    "            a_g = [*zip(*[[Neural_Network.sigmoid(z_list[g+1][a][b]) for a in range(len(z_list[g+1]))] for b in range(len(z_list[g+1][0]))])]\n",
    "            a_list.append(a_g)\n",
    "        return z_list, a_list\n",
    "    \n",
    "    @staticmethod    \n",
    "    def prime(n_hidden, z_list_):\n",
    "        prime_list = []\n",
    "        for p in range(len(n_hidden)+1):\n",
    "            prime_list_p = [*zip(*[[Neural_Network.sigmoid_prime(z_list_[p][i][j]) for i in range(len(z_list_[p]))] for j in range(len(z_list_[p][0]))])]\n",
    "            prime_list.append(prime_list_p)\n",
    "        return prime_list\n",
    "    \n",
    "    @staticmethod    \n",
    "    def discrepansy(Y_, a_list_):\n",
    "        discrepansy_list = []\n",
    "        for yy in range(len(Y)):\n",
    "            dis_i = Y_[yy][0] - a_list_[-1][yy][0] #Neural_Network.matrix_diff(Y[yy], a_list_[-1][yy])  #\n",
    "            discrepansy_list.append(dis_i)\n",
    "        discrepansy_list = [discrepansy_list[i:i+len(Y_[0])] for i in range(0,len(Y_), len(Y_[0]))]\n",
    "        return discrepansy_list\n",
    "    \n",
    "    @staticmethod    \n",
    "    def delta(Y_delta, weights_delta, discrepansy_, prime_):\n",
    "        delta_last = [[discrepansy_[qi][0]*prime_[-1][qi][0] for qi in range(len(Y_delta))][iq:iq+len(Y_delta[0])] for iq in range(0,len(Y_delta), len(Y_delta[0]))] \n",
    "        delta_list = []\n",
    "        delta_list.append(delta_last)\n",
    "        for d in range(len(n_hidden)):\n",
    "            delta_i = Neural_Network.matrix_multiple(delta_list[0], Neural_Network.matrix_multiple([*zip(*weights_delta[-d-1])], prime_[-d-2]))\n",
    "            delta_list.insert(0, delta_i)\n",
    "        return delta_list\n",
    "    \n",
    "    @staticmethod    \n",
    "    def dEdW(X_de, n_hidden, a_list_, delta_):\n",
    "        dEdW_list = []\n",
    "        corr_list = [X_de]+a_list_[0:len(a_list_)-1]\n",
    "        for e in range(len(n_hidden)+1):\n",
    "            dEdW_e = Neural_Network.matrix_multiple([*zip(*corr_list[e])], delta_[e])\n",
    "            dEdW_list.append(dEdW_e)\n",
    "        return dEdW_list\n",
    "    \n",
    "    @staticmethod    \n",
    "    def weights_update(eta, weights_u, dEdW_f):\n",
    "        w_updated_matrix = []\n",
    "        for n in range(len(n_hidden)+1):\n",
    "            w_updated_n = Neural_Network.matrix_diff(weights_u[n], Neural_Network.num_matrix(-eta, dEdW_f[n]))\n",
    "            w_updated_matrix.append(w_updated_n)\n",
    "        return  w_updated_matrix\n",
    "    \n",
    "    @staticmethod\n",
    "    def calculus(X_c, Y_c, n_hidden, epochs, eta):\n",
    "        \n",
    "        X_normed = Neural_Network.norm_matrix(X_c)\n",
    "        Y_normed = Neural_Network.norm_matrix(Y_c)\n",
    "        #X_normed = X\n",
    "        #Y_normed = Y\n",
    "        \n",
    "        w_list_total = []\n",
    "        a_list_total= []\n",
    "        z_list_total= []\n",
    "        prime_list_total = []\n",
    "        discrepansy_list_total = []\n",
    "        delta_list_total = []\n",
    "        dEdW_list_total = []\n",
    "\n",
    "        #База индукции\n",
    "        w_0 = Neural_Network.initial_weights_matrix_generator(X_normed, Y_normed, n_hidden)\n",
    "        z_0, a_0 = Neural_Network.z_a_list_func(X_normed, n_hidden, w_0)\n",
    "        p_0 = Neural_Network.prime(n_hidden, z_0)\n",
    "        dis_0 = Neural_Network.discrepansy(Y_normed, a_0)\n",
    "        del_0 = Neural_Network.delta(Y_normed, w_0, dis_0, p_0)\n",
    "        dEdW_0 = Neural_Network.dEdW(X_normed, n_hidden, a_0, del_0)\n",
    "\n",
    "\n",
    "        w_list_total.append(w_0)\n",
    "        a_list_total.append(a_0)\n",
    "        z_list_total.append(z_0)\n",
    "        prime_list_total.append(p_0)\n",
    "        discrepansy_list_total.append(dis_0)\n",
    "        delta_list_total.append(del_0)\n",
    "        dEdW_list_total.append(dEdW_0)\n",
    "\n",
    "        for epoch in range(epochs):\n",
    "\n",
    "            z_a_list_epoch = Neural_Network.z_a_list_func(X_normed, n_hidden, w_list_total[epoch])\n",
    "            a_list_total.append(z_a_list_epoch[0])\n",
    "            z_list_total.append(z_a_list_epoch[1])\n",
    "\n",
    "            prime_epoch = Neural_Network.prime(n_hidden, z_list_total[epoch])\n",
    "            prime_list_total.append(prime_epoch)\n",
    "\n",
    "            discrepansy_epoch = Neural_Network.discrepansy(Y_normed, a_list_total[epoch])\n",
    "            discrepansy_list_total.append(discrepansy_epoch)\n",
    "\n",
    "            delta_epoch = Neural_Network.delta(Y_normed, w_list_total[epoch], discrepansy_list_total[epoch], prime_list_total[epoch])\n",
    "            delta_list_total.append(delta_epoch)\n",
    "\n",
    "            dEdW_epoch = Neural_Network.dEdW(X_normed, n_hidden, a_list_total[epoch], delta_list_total[epoch])\n",
    "            dEdW_list_total.append(dEdW_epoch)\n",
    "\n",
    "            w_epoch = Neural_Network.weights_update(-eta, w_list_total[epoch], dEdW_list_total[epoch])\n",
    "            w_list_total.append(w_epoch)\n",
    "\n",
    "        return a_list_total, z_list_total, prime_list_total, discrepansy_list_total, delta_list_total, dEdW_list_total, w_list_total\n",
    "    "
   ]
  },
  {
   "cell_type": "code",
   "execution_count": 2,
   "id": "646d65a7",
   "metadata": {
    "pycharm": {
     "name": "#%%\n"
    }
   },
   "outputs": [],
   "source": [
    "X, Y = Neural_Network.random_matrix_generator(150, 7), Neural_Network.random_matrix_generator(150,1)"
   ]
  },
  {
   "cell_type": "code",
   "execution_count": 3,
   "id": "42c7698a",
   "metadata": {
    "pycharm": {
     "name": "#%%\n"
    }
   },
   "outputs": [],
   "source": [
    "n_hidden = [100, 50, 10]\n",
    "epochs = 400\n",
    "eta = 0.0045"
   ]
  },
  {
   "cell_type": "code",
   "execution_count": 4,
   "id": "1f3f028d",
   "metadata": {
    "pycharm": {
     "name": "#%%\n"
    }
   },
   "outputs": [
    {
     "name": "stdout",
     "output_type": "stream",
     "text": [
      "CPU times: total: 2min 17s\n",
      "Wall time: 2min 17s\n"
     ]
    }
   ],
   "source": [
    "%%time\n",
    "NN_dis = Neural_Network.calculus(X, Y, n_hidden, epochs, eta)[3]"
   ]
  },
  {
   "cell_type": "code",
   "execution_count": 5,
   "id": "a7360832",
   "metadata": {
    "pycharm": {
     "name": "#%%\n"
    }
   },
   "outputs": [],
   "source": [
    "def MSE(NN_discrepansy):\n",
    "    loss_list = []\n",
    "    for loss in range(len(NN_discrepansy)):\n",
    "        loss_epoch = 0.5*sum([(NN_discrepansy[loss][i][0])**2 for i in range(len(NN_discrepansy[loss]))])\n",
    "        loss_list.append(loss_epoch)\n",
    "    return loss_list"
   ]
  },
  {
   "cell_type": "code",
   "execution_count": 6,
   "id": "3ecd6f0f",
   "metadata": {
    "pycharm": {
     "name": "#%%\n"
    }
   },
   "outputs": [],
   "source": [
    "MSE_list = MSE(NN_dis)"
   ]
  },
  {
   "cell_type": "code",
   "execution_count": 8,
   "id": "3c9a11e6",
   "metadata": {
    "pycharm": {
     "name": "#%%\n"
    }
   },
   "outputs": [
    {
     "data": {
      "image/png": "[encoded data removed]",
      "text/plain": [
       "<Figure size 800x600 with 1 Axes>"
      ]
     },
     "metadata": {},
     "output_type": "display_data"
    }
   ],
   "source": [
    "import matplotlib.pyplot as plt\n",
    "plt.figure(figsize=(8,6))\n",
    "plt.plot(range(2, len(MSE(NN_dis))), MSE_list[2:len(MSE_list)], label=f'MSE {n_hidden}, epochs={epochs}, eta={eta}')\n",
    "plt.legend()\n",
    "plt.show()"
   ]
  },
  {
   "cell_type": "markdown",
   "id": "5dd646eb",
   "metadata": {
    "pycharm": {
     "name": "#%% md\n"
    }
   },
   "source": [
    "# Другие функции активации"
   ]
  },
  {
   "cell_type": "markdown",
   "id": "a0d2860f",
   "metadata": {
    "pycharm": {
     "name": "#%% md\n"
    }
   },
   "source": [
    "Функция для построения графиков:"
   ]
  },
  {
   "cell_type": "code",
   "execution_count": 28,
   "id": "acefa946",
   "metadata": {
    "pycharm": {
     "name": "#%%\n"
    }
   },
   "outputs": [],
   "source": [
    "def func_plot(range_, act_fun):\n",
    "    range_ = range_\n",
    "    list_ = []\n",
    "    for r in range(len(range_ )):\n",
    "        point = act_fun(range_[r])\n",
    "        list_.append(point)\n",
    "    return list_"
   ]
  },
  {
   "cell_type": "markdown",
   "id": "eec7533b",
   "metadata": {
    "pycharm": {
     "name": "#%% md\n"
    }
   },
   "source": [
    "## ReLu "
   ]
  },
  {
   "cell_type": "markdown",
   "id": "39c638eb",
   "metadata": {
    "pycharm": {
     "name": "#%% md\n"
    }
   },
   "source": [
    "$$f(x) = x^+ = \\max(0, x) = \\frac{x+|x|}{2} = \\begin{cases}\n",
    "    x & \\text{if } x > 0, \\\\\n",
    "    0 & \\text{otherwise}.\n",
    "\\end{cases}\\\\\n",
    "f'(x) = \\begin{cases}\n",
    "    1 & \\text{if } x > 0, \\\\\n",
    "    0 & \\text{if } x < 0.\n",
    "\\end{cases}$$"
   ]
  },
  {
   "cell_type": "code",
   "execution_count": 12,
   "id": "39204a94",
   "metadata": {
    "pycharm": {
     "name": "#%%\n"
    }
   },
   "outputs": [],
   "source": [
    "def ReLu(z):\n",
    "    return z if z>0 else 0"
   ]
  },
  {
   "cell_type": "code",
   "execution_count": 30,
   "id": "7297deb2",
   "metadata": {
    "pycharm": {
     "name": "#%%\n"
    }
   },
   "outputs": [],
   "source": [
    "def ReLu_prime(z):\n",
    "    return 1 if z>=0 else 0"
   ]
  },
  {
   "cell_type": "code",
   "execution_count": 31,
   "id": "8128ce6c",
   "metadata": {
    "pycharm": {
     "name": "#%%\n"
    }
   },
   "outputs": [
    {
     "data": {
      "image/png": "[encoded data removed]",
      "text/plain": [
       "<Figure size 800x600 with 1 Axes>"
      ]
     },
     "metadata": {},
     "output_type": "display_data"
    }
   ],
   "source": [
    "z = list(i/10 for i in range(-50,50))\n",
    "r_list = []\n",
    "r1_list = []\n",
    "for k in range(len(z)):\n",
    "    r = ReLu(z[k])\n",
    "    r1 = ReLu_prime(z[k])\n",
    "    r_list.append(r)\n",
    "    r1_list.append(r1)\n",
    "plt.figure(figsize=(8,6))\n",
    "plt.plot(z, r_list , label=f'ReLu')\n",
    "plt.plot(z, r1_list , label=f'ReLu_prime')\n",
    "plt.legend()\n",
    "plt.show()"
   ]
  },
  {
   "cell_type": "markdown",
   "id": "7bf9dee9",
   "metadata": {
    "pycharm": {
     "name": "#%% md\n"
    }
   },
   "source": [
    "## Гиперболический тангенс"
   ]
  },
  {
   "cell_type": "markdown",
   "id": "eae05026",
   "metadata": {
    "pycharm": {
     "name": "#%% md\n"
    }
   },
   "source": [
    "$$f(x)=\\operatorname{th}x=\\frac{\\operatorname{sh}x}{\\operatorname{ch}x} = \\frac {e^x - e^{-x}} {e^x + e^{-x}} = \\frac{e^{2x} - 1} {e^{2x} + 1}=1-\\frac {2} {e^{2x} + 1}$$\n",
    "\n",
    "$$ f'(x)=1-\\frac{4e^{2x}}{\\left(e^{2x}+1\\right)^2}$$"
   ]
  },
  {
   "cell_type": "code",
   "execution_count": 25,
   "id": "92df13d0",
   "metadata": {
    "pycharm": {
     "name": "#%%\n"
    }
   },
   "outputs": [],
   "source": [
    "def tanh(z):\n",
    "    from math import exp\n",
    "    #exp = 2.71828182845904523536028747135266249775724709369995  \n",
    "    return 1-2/(1+exp(2*z))"
   ]
  },
  {
   "cell_type": "code",
   "execution_count": 26,
   "id": "a7d01e0c",
   "metadata": {
    "pycharm": {
     "name": "#%%\n"
    }
   },
   "outputs": [],
   "source": [
    "def tanh_prime(z):\n",
    "    from math import exp\n",
    "    #exp = 2.71828182845904523536028747135266249775724709369995  \n",
    "    return 1-4*exp(2*z)/(1+exp(2*z))**2"
   ]
  },
  {
   "cell_type": "code",
   "execution_count": 27,
   "id": "ca6fed63",
   "metadata": {
    "pycharm": {
     "name": "#%%\n"
    }
   },
   "outputs": [
    {
     "data": {
      "image/png": "[encoded data removed]",
      "text/plain": [
       "<Figure size 800x600 with 1 Axes>"
      ]
     },
     "metadata": {},
     "output_type": "display_data"
    }
   ],
   "source": [
    "z = list(i/10 for i in range(-50,50))\n",
    "r_list = []\n",
    "r1_list = []\n",
    "for k in range(len(z)):\n",
    "    r = tanh(z[k])\n",
    "    r1 = tanh_prime(z[k])\n",
    "    r_list.append(r)\n",
    "    r1_list.append(r1)\n",
    "plt.figure(figsize=(8,6))\n",
    "plt.plot(z, r_list , label=f'tanh')\n",
    "plt.plot(z, r1_list , label=f'tanh_prime')\n",
    "plt.legend()\n",
    "plt.show()\n"
   ]
  },
  {
   "cell_type": "markdown",
   "id": "10d00d64",
   "metadata": {
    "pycharm": {
     "name": "#%% md\n"
    }
   },
   "source": [
    "## Протестируем нашу нейронную сеть на датасете по деградации солнечных батарей"
   ]
  },
  {
   "cell_type": "code",
   "execution_count": 4,
   "id": "e9e24423",
   "metadata": {
    "pycharm": {
     "name": "#%%\n"
    }
   },
   "outputs": [
    {
     "data": {
      "text/html": [
       "<div>\n",
       "<style scoped>\n",
       "    .dataframe tbody tr th:only-of-type {\n",
       "        vertical-align: middle;\n",
       "    }\n",
       "\n",
       "    .dataframe tbody tr th {\n",
       "        vertical-align: top;\n",
       "    }\n",
       "\n",
       "    .dataframe thead th {\n",
       "        text-align: right;\n",
       "    }\n",
       "</style>\n",
       "<table border=\"1\" class=\"dataframe\">\n",
       "  <thead>\n",
       "    <tr style=\"text-align: right;\">\n",
       "      <th></th>\n",
       "      <th>Дата</th>\n",
       "      <th>Протоны &gt;1 MeV</th>\n",
       "      <th>Протоны &gt;10 MeV</th>\n",
       "      <th>Протоны &gt;100 MeV</th>\n",
       "      <th>Электроны &gt;0.6 MeV</th>\n",
       "      <th>Электроны &gt;2 MeV</th>\n",
       "      <th>I БС3 отн.</th>\n",
       "      <th>I БС4 отн.</th>\n",
       "      <th>Uхх БС3 отн.</th>\n",
       "      <th>Uхх БС4 отн.</th>\n",
       "      <th>К осв-ти</th>\n",
       "    </tr>\n",
       "  </thead>\n",
       "  <tbody>\n",
       "    <tr>\n",
       "      <th>0</th>\n",
       "      <td>2000-03-12</td>\n",
       "      <td>130000</td>\n",
       "      <td>11000</td>\n",
       "      <td>2400</td>\n",
       "      <td>3700000000</td>\n",
       "      <td>8500000</td>\n",
       "      <td>1.000000</td>\n",
       "      <td>1.000000</td>\n",
       "      <td>1.000000</td>\n",
       "      <td>1.000000</td>\n",
       "      <td>1.011060</td>\n",
       "    </tr>\n",
       "    <tr>\n",
       "      <th>1</th>\n",
       "      <td>2000-03-13</td>\n",
       "      <td>41000</td>\n",
       "      <td>11000</td>\n",
       "      <td>2400</td>\n",
       "      <td>6500000000</td>\n",
       "      <td>4000000</td>\n",
       "      <td>0.987450</td>\n",
       "      <td>1.000000</td>\n",
       "      <td>1.005470</td>\n",
       "      <td>0.989170</td>\n",
       "      <td>1.010967</td>\n",
       "    </tr>\n",
       "    <tr>\n",
       "      <th>2</th>\n",
       "      <td>2000-04-26</td>\n",
       "      <td>130000</td>\n",
       "      <td>13000</td>\n",
       "      <td>2600</td>\n",
       "      <td>540000000</td>\n",
       "      <td>320000</td>\n",
       "      <td>0.894980</td>\n",
       "      <td>0.933836</td>\n",
       "      <td>1.000547</td>\n",
       "      <td>0.992783</td>\n",
       "      <td>0.960554</td>\n",
       "    </tr>\n",
       "    <tr>\n",
       "      <th>3</th>\n",
       "      <td>2000-05-03</td>\n",
       "      <td>240000</td>\n",
       "      <td>10000</td>\n",
       "      <td>2100</td>\n",
       "      <td>15000000000</td>\n",
       "      <td>31000000</td>\n",
       "      <td>0.882705</td>\n",
       "      <td>0.914330</td>\n",
       "      <td>1.004103</td>\n",
       "      <td>0.991878</td>\n",
       "      <td>0.947413</td>\n",
       "    </tr>\n",
       "    <tr>\n",
       "      <th>4</th>\n",
       "      <td>2000-05-25</td>\n",
       "      <td>610000</td>\n",
       "      <td>9900</td>\n",
       "      <td>2000</td>\n",
       "      <td>14000000000</td>\n",
       "      <td>32000000</td>\n",
       "      <td>0.888710</td>\n",
       "      <td>0.914330</td>\n",
       "      <td>1.005470</td>\n",
       "      <td>1.000000</td>\n",
       "      <td>0.910599</td>\n",
       "    </tr>\n",
       "    <tr>\n",
       "      <th>...</th>\n",
       "      <td>...</td>\n",
       "      <td>...</td>\n",
       "      <td>...</td>\n",
       "      <td>...</td>\n",
       "      <td>...</td>\n",
       "      <td>...</td>\n",
       "      <td>...</td>\n",
       "      <td>...</td>\n",
       "      <td>...</td>\n",
       "      <td>...</td>\n",
       "      <td>...</td>\n",
       "    </tr>\n",
       "    <tr>\n",
       "      <th>143</th>\n",
       "      <td>2000-12-25</td>\n",
       "      <td>89000</td>\n",
       "      <td>8600</td>\n",
       "      <td>1900</td>\n",
       "      <td>1700000000</td>\n",
       "      <td>550000</td>\n",
       "      <td>0.851793</td>\n",
       "      <td>0.914330</td>\n",
       "      <td>0.911820</td>\n",
       "      <td>0.896530</td>\n",
       "      <td>0.948990</td>\n",
       "    </tr>\n",
       "    <tr>\n",
       "      <th>144</th>\n",
       "      <td>2000-12-26</td>\n",
       "      <td>54000</td>\n",
       "      <td>9800</td>\n",
       "      <td>1900</td>\n",
       "      <td>780000000</td>\n",
       "      <td>210000</td>\n",
       "      <td>0.847610</td>\n",
       "      <td>0.914330</td>\n",
       "      <td>0.900870</td>\n",
       "      <td>0.891120</td>\n",
       "      <td>0.949276</td>\n",
       "    </tr>\n",
       "    <tr>\n",
       "      <th>145</th>\n",
       "      <td>2000-12-27</td>\n",
       "      <td>100000</td>\n",
       "      <td>9400</td>\n",
       "      <td>1900</td>\n",
       "      <td>1800000000</td>\n",
       "      <td>430000</td>\n",
       "      <td>0.846920</td>\n",
       "      <td>0.918460</td>\n",
       "      <td>0.906350</td>\n",
       "      <td>0.896530</td>\n",
       "      <td>0.949606</td>\n",
       "    </tr>\n",
       "    <tr>\n",
       "      <th>146</th>\n",
       "      <td>2000-12-30</td>\n",
       "      <td>170000</td>\n",
       "      <td>29000</td>\n",
       "      <td>2300</td>\n",
       "      <td>3100000000</td>\n",
       "      <td>750000</td>\n",
       "      <td>0.855977</td>\n",
       "      <td>0.914330</td>\n",
       "      <td>0.909085</td>\n",
       "      <td>0.894730</td>\n",
       "      <td>0.950923</td>\n",
       "    </tr>\n",
       "    <tr>\n",
       "      <th>147</th>\n",
       "      <td>2000-12-31</td>\n",
       "      <td>60000</td>\n",
       "      <td>16000</td>\n",
       "      <td>2500</td>\n",
       "      <td>2600000000</td>\n",
       "      <td>930000</td>\n",
       "      <td>0.851793</td>\n",
       "      <td>0.914330</td>\n",
       "      <td>0.906350</td>\n",
       "      <td>0.893825</td>\n",
       "      <td>0.951413</td>\n",
       "    </tr>\n",
       "  </tbody>\n",
       "</table>\n",
       "<p>148 rows × 11 columns</p>\n",
       "</div>"
      ],
      "text/plain": [
       "          Дата  Протоны >1 MeV  Протоны >10 MeV  Протоны >100 MeV  \\\n",
       "0   2000-03-12          130000            11000              2400   \n",
       "1   2000-03-13           41000            11000              2400   \n",
       "2   2000-04-26          130000            13000              2600   \n",
       "3   2000-05-03          240000            10000              2100   \n",
       "4   2000-05-25          610000             9900              2000   \n",
       "..         ...             ...              ...               ...   \n",
       "143 2000-12-25           89000             8600              1900   \n",
       "144 2000-12-26           54000             9800              1900   \n",
       "145 2000-12-27          100000             9400              1900   \n",
       "146 2000-12-30          170000            29000              2300   \n",
       "147 2000-12-31           60000            16000              2500   \n",
       "\n",
       "     Электроны >0.6 MeV  Электроны >2 MeV  I БС3 отн.  I БС4 отн.  \\\n",
       "0            3700000000           8500000    1.000000    1.000000   \n",
       "1            6500000000           4000000    0.987450    1.000000   \n",
       "2             540000000            320000    0.894980    0.933836   \n",
       "3           15000000000          31000000    0.882705    0.914330   \n",
       "4           14000000000          32000000    0.888710    0.914330   \n",
       "..                  ...               ...         ...         ...   \n",
       "143          1700000000            550000    0.851793    0.914330   \n",
       "144           780000000            210000    0.847610    0.914330   \n",
       "145          1800000000            430000    0.846920    0.918460   \n",
       "146          3100000000            750000    0.855977    0.914330   \n",
       "147          2600000000            930000    0.851793    0.914330   \n",
       "\n",
       "     Uхх БС3 отн.  Uхх БС4 отн.  К осв-ти  \n",
       "0        1.000000      1.000000  1.011060  \n",
       "1        1.005470      0.989170  1.010967  \n",
       "2        1.000547      0.992783  0.960554  \n",
       "3        1.004103      0.991878  0.947413  \n",
       "4        1.005470      1.000000  0.910599  \n",
       "..            ...           ...       ...  \n",
       "143      0.911820      0.896530  0.948990  \n",
       "144      0.900870      0.891120  0.949276  \n",
       "145      0.906350      0.896530  0.949606  \n",
       "146      0.909085      0.894730  0.950923  \n",
       "147      0.906350      0.893825  0.951413  \n",
       "\n",
       "[148 rows x 11 columns]"
      ]
     },
     "execution_count": 4,
     "metadata": {},
     "output_type": "execute_result"
    }
   ],
   "source": [
    "import pandas as pd\n",
    "import numpy as np\n",
    "data_SB = pd.read_excel('dataset 1.xlsx')\n",
    "data_SB"
   ]
  },
  {
   "cell_type": "markdown",
   "id": "a0d6c634",
   "metadata": {
    "pycharm": {
     "name": "#%% md\n"
    }
   },
   "source": [
    "Переведём датасет в список списков"
   ]
  },
  {
   "cell_type": "code",
   "execution_count": 5,
   "id": "fd486614",
   "metadata": {
    "pycharm": {
     "name": "#%%\n"
    }
   },
   "outputs": [
    {
     "data": {
      "text/plain": [
       "['Дата',\n",
       " 'Протоны >1 MeV',\n",
       " 'Протоны >10 MeV',\n",
       " 'Протоны >100 MeV',\n",
       " 'Электроны >0.6 MeV',\n",
       " 'Электроны >2 MeV',\n",
       " 'I БС3 отн.',\n",
       " 'I БС4 отн.',\n",
       " 'Uхх БС3 отн.',\n",
       " 'Uхх БС4 отн.',\n",
       " 'К осв-ти']"
      ]
     },
     "execution_count": 5,
     "metadata": {},
     "output_type": "execute_result"
    }
   ],
   "source": [
    "col_list_SB = list(data_SB.columns)\n",
    "col_list_SB"
   ]
  },
  {
   "cell_type": "code",
   "execution_count": 6,
   "id": "69614216",
   "metadata": {
    "pycharm": {
     "name": "#%%\n"
    }
   },
   "outputs": [],
   "source": [
    "lists = []\n",
    "for k in np.arange(len(col_list_SB)):\n",
    "    list_k = list(data_SB[f'{col_list_SB[k]}'])\n",
    "    lists.append(list_k)"
   ]
  },
  {
   "cell_type": "code",
   "execution_count": 7,
   "id": "c80f1324",
   "metadata": {
    "pycharm": {
     "name": "#%%\n"
    }
   },
   "outputs": [],
   "source": [
    "X, Y = list(zip(*lists[1:len(lists)-1])), [[lists[-1][i]] for i in range(len(lists[-1]))]"
   ]
  },
  {
   "cell_type": "code",
   "execution_count": 63,
   "id": "2a84f1e3",
   "metadata": {
    "pycharm": {
     "name": "#%%\n"
    }
   },
   "outputs": [],
   "source": [
    "n_hidden = [20, 5, 2]\n",
    "epochs = 500\n",
    "eta = 0.003"
   ]
  },
  {
   "cell_type": "code",
   "execution_count": 64,
   "id": "2120cdc9",
   "metadata": {
    "pycharm": {
     "name": "#%%\n"
    }
   },
   "outputs": [
    {
     "name": "stdout",
     "output_type": "stream",
     "text": [
      "CPU times: total: 14.2 s\n",
      "Wall time: 14.3 s\n"
     ]
    }
   ],
   "source": [
    "%%time\n",
    "NN_dis_SB = Neural_Network.calculus(X, Y, n_hidden, epochs, eta)[3]"
   ]
  },
  {
   "cell_type": "code",
   "execution_count": 66,
   "id": "71f841ea",
   "metadata": {
    "pycharm": {
     "name": "#%%\n"
    }
   },
   "outputs": [],
   "source": [
    "def MSE(NN_discrepansy):\n",
    "    loss_list = []\n",
    "    for loss in range(len(NN_discrepansy)):\n",
    "        loss_epoch = 0.5*sum([(NN_discrepansy[loss][i][0])**2 for i in range(len(NN_discrepansy[loss]))])\n",
    "        loss_list.append(loss_epoch)\n",
    "    return loss_list\n",
    "\n",
    "MSE_list_SB = MSE(NN_dis_SB)"
   ]
  },
  {
   "cell_type": "code",
   "execution_count": 68,
   "id": "18ac4c43",
   "metadata": {
    "pycharm": {
     "name": "#%%\n"
    }
   },
   "outputs": [
    {
     "data": {
      "image/png": "[encoded data removed]",
      "text/plain": [
       "<Figure size 800x600 with 1 Axes>"
      ]
     },
     "metadata": {},
     "output_type": "display_data"
    }
   ],
   "source": [
    "import matplotlib.pyplot as plt\n",
    "plt.figure(figsize=(8,6))\n",
    "plt.plot(range(2, len(MSE_list_SB)), MSE_list_SB[2:len(MSE_list_SB)], label=f'MSE {n_hidden}, epochs={epochs}, eta={eta}')\n",
    "plt.legend()\n",
    "plt.show()"
   ]
  },
  {
   "cell_type": "markdown",
   "id": "7dd08eee",
   "metadata": {
    "pycharm": {
     "name": "#%% md\n"
    }
   },
   "source": [
    "## Проверим результат с помощью библиотеки tensorflow.python.keras"
   ]
  },
  {
   "cell_type": "code",
   "execution_count": 33,
   "id": "14efcd1d",
   "metadata": {
    "pycharm": {
     "name": "#%%\n"
    }
   },
   "outputs": [],
   "source": [
    "import pandas as pd\n",
    "import numpy as np\n",
    "from keras.models import Sequential\n",
    "import keras\n",
    "from sklearn.model_selection import train_test_split\n",
    "from sklearn import preprocessing \n",
    "from keras.layers.core import Dense\n",
    "import tensorflow as tf\n",
    "from tensorflow.python.keras.layers import Input, Dense\n",
    "from sklearn.model_selection import train_test_split\n",
    "from keras.callbacks import History \n",
    "\n",
    "\n",
    "def execute_method(data, n_hidden_, epochs_, eta_):\n",
    "    \n",
    "    col_list = list(data.columns)\n",
    "    lists = []\n",
    "    for k in np.arange(len(data.columns)):\n",
    "        list_k = list(data[f'{col_list[k]}'])\n",
    "        lists.append(list_k)\n",
    "    \n",
    "    X_train, y_train = list(zip(*lists[1:len(lists)-1])), [[lists[-1][i]] for i in range(len(lists[-1]))]\n",
    "\n",
    "\n",
    "    #ЗАДАЕМ ПОСЛЕДОВАТЕЛЬНОСТЬ СЛОЕВ\n",
    "    model = tf.keras.Sequential()\n",
    "    \n",
    "    for layer in np.arange(len(n_hidden_)):\n",
    "        model.add(tf.keras.layers.Dense(n_hidden_[layer]))\n",
    "        model.add(tf.keras.layers.Activation('sigmoid'))\n",
    "\n",
    "    model.compile(loss='mse', optimizer='sgd')\n",
    "    \n",
    "    model.compile(loss=keras.losses.MeanSquaredError(reduction=\"auto\", name=\"mean_squared_error\"),\n",
    "                  optimizer=keras.optimizers.SGD(lr=eta_))\n",
    "\n",
    "    fitting = model.fit(X_train, y_train, epochs = epochs_)\n",
    "    \n",
    "    hist_ = fitting.history\n",
    "    \n",
    "    return hist_ \n"
   ]
  },
  {
   "cell_type": "code",
   "execution_count": 37,
   "id": "ea2ae54c",
   "metadata": {
    "pycharm": {
     "name": "#%%\n"
    }
   },
   "outputs": [],
   "source": [
    "n_hidden = [100, 50, 20]\n",
    "epochs = 400\n",
    "eta = 0.001"
   ]
  },
  {
   "cell_type": "code",
   "execution_count": 38,
   "id": "40d11b55",
   "metadata": {
    "pycharm": {
     "name": "#%%\n"
    }
   },
   "outputs": [
    {
     "name": "stdout",
     "output_type": "stream",
     "text": [
      "Epoch 1/400\n"
     ]
    },
    {
     "name": "stderr",
     "output_type": "stream",
     "text": [
      "C:\\Users\\ivan\\anaconda3\\lib\\site-packages\\keras\\optimizers\\optimizer_v2\\gradient_descent.py:111: UserWarning: The `lr` argument is deprecated, use `learning_rate` instead.\n",
      "  super().__init__(name, **kwargs)\n"
     ]
    },
    {
     "name": "stdout",
     "output_type": "stream",
     "text": [
      "5/5 [==============================] - 0s 5ms/step - loss: 0.2670\n",
      "Epoch 2/400\n",
      "5/5 [==============================] - 0s 5ms/step - loss: 0.2668\n",
      "Epoch 3/400\n",
      "5/5 [==============================] - 0s 5ms/step - loss: 0.2665\n",
      "Epoch 4/400\n",
      "5/5 [==============================] - 0s 5ms/step - loss: 0.2663\n",
      "Epoch 5/400\n",
      "5/5 [==============================] - 0s 4ms/step - loss: 0.2660\n",
      "Epoch 6/400\n",
      "5/5 [==============================] - 0s 5ms/step - loss: 0.2658\n",
      "Epoch 7/400\n",
      "5/5 [==============================] - 0s 6ms/step - loss: 0.2655\n",
      "Epoch 8/400\n",
      "5/5 [==============================] - 0s 5ms/step - loss: 0.2653\n",
      "Epoch 9/400\n",
      "5/5 [==============================] - 0s 4ms/step - loss: 0.2650\n",
      "Epoch 10/400\n",
      "5/5 [==============================] - 0s 4ms/step - loss: 0.2647\n",
      "Epoch 11/400\n",
      "5/5 [==============================] - 0s 4ms/step - loss: 0.2645\n",
      "Epoch 12/400\n",
      "5/5 [==============================] - 0s 4ms/step - loss: 0.2642\n",
      "Epoch 13/400\n",
      "5/5 [==============================] - 0s 4ms/step - loss: 0.2640\n",
      "Epoch 14/400\n",
      "5/5 [==============================] - 0s 4ms/step - loss: 0.2637\n",
      "Epoch 15/400\n",
      "5/5 [==============================] - 0s 5ms/step - loss: 0.2635\n",
      "Epoch 16/400\n",
      "5/5 [==============================] - 0s 5ms/step - loss: 0.2632\n",
      "Epoch 17/400\n",
      "5/5 [==============================] - 0s 5ms/step - loss: 0.2630\n",
      "Epoch 18/400\n",
      "5/5 [==============================] - 0s 5ms/step - loss: 0.2627\n",
      "Epoch 19/400\n",
      "5/5 [==============================] - 0s 4ms/step - loss: 0.2625\n",
      "Epoch 20/400\n",
      "5/5 [==============================] - 0s 4ms/step - loss: 0.2622\n",
      "Epoch 21/400\n",
      "5/5 [==============================] - 0s 5ms/step - loss: 0.2620\n",
      "Epoch 22/400\n",
      "5/5 [==============================] - 0s 5ms/step - loss: 0.2617\n",
      "Epoch 23/400\n",
      "5/5 [==============================] - 0s 4ms/step - loss: 0.2615\n",
      "Epoch 24/400\n",
      "5/5 [==============================] - 0s 5ms/step - loss: 0.2612\n",
      "Epoch 25/400\n",
      "5/5 [==============================] - 0s 5ms/step - loss: 0.2610\n",
      "Epoch 26/400\n",
      "5/5 [==============================] - 0s 4ms/step - loss: 0.2607\n",
      "Epoch 27/400\n",
      "5/5 [==============================] - 0s 4ms/step - loss: 0.2605\n",
      "Epoch 28/400\n",
      "5/5 [==============================] - 0s 4ms/step - loss: 0.2602\n",
      "Epoch 29/400\n",
      "5/5 [==============================] - 0s 4ms/step - loss: 0.2600\n",
      "Epoch 30/400\n",
      "5/5 [==============================] - 0s 5ms/step - loss: 0.2597\n",
      "Epoch 31/400\n",
      "5/5 [==============================] - 0s 4ms/step - loss: 0.2595\n",
      "Epoch 32/400\n",
      "5/5 [==============================] - 0s 6ms/step - loss: 0.2592\n",
      "Epoch 33/400\n",
      "5/5 [==============================] - 0s 6ms/step - loss: 0.2590\n",
      "Epoch 34/400\n",
      "5/5 [==============================] - 0s 4ms/step - loss: 0.2587\n",
      "Epoch 35/400\n",
      "5/5 [==============================] - 0s 3ms/step - loss: 0.2585\n",
      "Epoch 36/400\n",
      "5/5 [==============================] - 0s 4ms/step - loss: 0.2582\n",
      "Epoch 37/400\n",
      "5/5 [==============================] - 0s 3ms/step - loss: 0.2580\n",
      "Epoch 38/400\n",
      "5/5 [==============================] - 0s 5ms/step - loss: 0.2577\n",
      "Epoch 39/400\n",
      "5/5 [==============================] - 0s 4ms/step - loss: 0.2575\n",
      "Epoch 40/400\n",
      "5/5 [==============================] - 0s 5ms/step - loss: 0.2572\n",
      "Epoch 41/400\n",
      "5/5 [==============================] - 0s 4ms/step - loss: 0.2570\n",
      "Epoch 42/400\n",
      "5/5 [==============================] - 0s 5ms/step - loss: 0.2567\n",
      "Epoch 43/400\n",
      "5/5 [==============================] - 0s 5ms/step - loss: 0.2565\n",
      "Epoch 44/400\n",
      "5/5 [==============================] - 0s 5ms/step - loss: 0.2562\n",
      "Epoch 45/400\n",
      "5/5 [==============================] - 0s 4ms/step - loss: 0.2560\n",
      "Epoch 46/400\n",
      "5/5 [==============================] - 0s 5ms/step - loss: 0.2558\n",
      "Epoch 47/400\n",
      "5/5 [==============================] - 0s 5ms/step - loss: 0.2555\n",
      "Epoch 48/400\n",
      "5/5 [==============================] - 0s 5ms/step - loss: 0.2553\n",
      "Epoch 49/400\n",
      "5/5 [==============================] - 0s 5ms/step - loss: 0.2550\n",
      "Epoch 50/400\n",
      "5/5 [==============================] - 0s 4ms/step - loss: 0.2548\n",
      "Epoch 51/400\n",
      "5/5 [==============================] - 0s 4ms/step - loss: 0.2545\n",
      "Epoch 52/400\n",
      "5/5 [==============================] - 0s 4ms/step - loss: 0.2543\n",
      "Epoch 53/400\n",
      "5/5 [==============================] - 0s 4ms/step - loss: 0.2540\n",
      "Epoch 54/400\n",
      "5/5 [==============================] - 0s 4ms/step - loss: 0.2538\n",
      "Epoch 55/400\n",
      "5/5 [==============================] - 0s 4ms/step - loss: 0.2536\n",
      "Epoch 56/400\n",
      "5/5 [==============================] - 0s 5ms/step - loss: 0.2533\n",
      "Epoch 57/400\n",
      "5/5 [==============================] - 0s 5ms/step - loss: 0.2531\n",
      "Epoch 58/400\n",
      "5/5 [==============================] - 0s 4ms/step - loss: 0.2528\n",
      "Epoch 59/400\n",
      "5/5 [==============================] - 0s 4ms/step - loss: 0.2526\n",
      "Epoch 60/400\n",
      "5/5 [==============================] - 0s 4ms/step - loss: 0.2523\n",
      "Epoch 61/400\n",
      "5/5 [==============================] - 0s 5ms/step - loss: 0.2521\n",
      "Epoch 62/400\n",
      "5/5 [==============================] - 0s 4ms/step - loss: 0.2518\n",
      "Epoch 63/400\n",
      "5/5 [==============================] - 0s 4ms/step - loss: 0.2516\n",
      "Epoch 64/400\n",
      "5/5 [==============================] - 0s 5ms/step - loss: 0.2514\n",
      "Epoch 65/400\n",
      "5/5 [==============================] - 0s 5ms/step - loss: 0.2511\n",
      "Epoch 66/400\n",
      "5/5 [==============================] - 0s 4ms/step - loss: 0.2509\n",
      "Epoch 67/400\n",
      "5/5 [==============================] - 0s 5ms/step - loss: 0.2506\n",
      "Epoch 68/400\n",
      "5/5 [==============================] - 0s 4ms/step - loss: 0.2504\n",
      "Epoch 69/400\n",
      "5/5 [==============================] - 0s 4ms/step - loss: 0.2502\n",
      "Epoch 70/400\n",
      "5/5 [==============================] - 0s 6ms/step - loss: 0.2499\n",
      "Epoch 71/400\n",
      "5/5 [==============================] - 0s 4ms/step - loss: 0.2497\n",
      "Epoch 72/400\n",
      "5/5 [==============================] - 0s 4ms/step - loss: 0.2494\n",
      "Epoch 73/400\n",
      "5/5 [==============================] - 0s 4ms/step - loss: 0.2492\n",
      "Epoch 74/400\n",
      "5/5 [==============================] - 0s 4ms/step - loss: 0.2490\n",
      "Epoch 75/400\n",
      "5/5 [==============================] - 0s 6ms/step - loss: 0.2487\n",
      "Epoch 76/400\n",
      "5/5 [==============================] - 0s 4ms/step - loss: 0.2485\n",
      "Epoch 77/400\n",
      "5/5 [==============================] - 0s 4ms/step - loss: 0.2482\n",
      "Epoch 78/400\n",
      "5/5 [==============================] - 0s 4ms/step - loss: 0.2480\n",
      "Epoch 79/400\n",
      "5/5 [==============================] - 0s 4ms/step - loss: 0.2478\n",
      "Epoch 80/400\n",
      "5/5 [==============================] - 0s 5ms/step - loss: 0.2475\n",
      "Epoch 81/400\n",
      "5/5 [==============================] - 0s 4ms/step - loss: 0.2473\n",
      "Epoch 82/400\n",
      "5/5 [==============================] - 0s 4ms/step - loss: 0.2470\n",
      "Epoch 83/400\n",
      "5/5 [==============================] - 0s 4ms/step - loss: 0.2468\n",
      "Epoch 84/400\n",
      "5/5 [==============================] - 0s 4ms/step - loss: 0.2466\n",
      "Epoch 85/400\n",
      "5/5 [==============================] - 0s 4ms/step - loss: 0.2463\n",
      "Epoch 86/400\n",
      "5/5 [==============================] - 0s 4ms/step - loss: 0.2461\n",
      "Epoch 87/400\n",
      "5/5 [==============================] - 0s 4ms/step - loss: 0.2458\n",
      "Epoch 88/400\n",
      "5/5 [==============================] - 0s 4ms/step - loss: 0.2456\n",
      "Epoch 89/400\n",
      "5/5 [==============================] - 0s 5ms/step - loss: 0.2454\n",
      "Epoch 90/400\n",
      "5/5 [==============================] - 0s 4ms/step - loss: 0.2451\n",
      "Epoch 91/400\n",
      "5/5 [==============================] - 0s 4ms/step - loss: 0.2449\n",
      "Epoch 92/400\n",
      "5/5 [==============================] - 0s 4ms/step - loss: 0.2447\n",
      "Epoch 93/400\n",
      "5/5 [==============================] - 0s 5ms/step - loss: 0.2444\n",
      "Epoch 94/400\n",
      "5/5 [==============================] - 0s 5ms/step - loss: 0.2442\n",
      "Epoch 95/400\n",
      "5/5 [==============================] - 0s 5ms/step - loss: 0.2440\n",
      "Epoch 96/400\n",
      "5/5 [==============================] - 0s 5ms/step - loss: 0.2437\n",
      "Epoch 97/400\n",
      "5/5 [==============================] - 0s 4ms/step - loss: 0.2435\n",
      "Epoch 98/400\n",
      "5/5 [==============================] - 0s 5ms/step - loss: 0.2432\n",
      "Epoch 99/400\n",
      "5/5 [==============================] - 0s 5ms/step - loss: 0.2430\n",
      "Epoch 100/400\n",
      "5/5 [==============================] - 0s 4ms/step - loss: 0.2428\n",
      "Epoch 101/400\n",
      "5/5 [==============================] - 0s 4ms/step - loss: 0.2425\n",
      "Epoch 102/400\n",
      "5/5 [==============================] - 0s 5ms/step - loss: 0.2423\n",
      "Epoch 103/400\n",
      "5/5 [==============================] - 0s 5ms/step - loss: 0.2421\n",
      "Epoch 104/400\n",
      "5/5 [==============================] - 0s 5ms/step - loss: 0.2418\n",
      "Epoch 105/400\n",
      "5/5 [==============================] - 0s 5ms/step - loss: 0.2416\n",
      "Epoch 106/400\n",
      "5/5 [==============================] - 0s 4ms/step - loss: 0.2414\n",
      "Epoch 107/400\n",
      "5/5 [==============================] - 0s 4ms/step - loss: 0.2411\n",
      "Epoch 108/400\n",
      "5/5 [==============================] - 0s 4ms/step - loss: 0.2409\n",
      "Epoch 109/400\n",
      "5/5 [==============================] - 0s 4ms/step - loss: 0.2407\n",
      "Epoch 110/400\n",
      "5/5 [==============================] - 0s 4ms/step - loss: 0.2404\n",
      "Epoch 111/400\n",
      "5/5 [==============================] - 0s 5ms/step - loss: 0.2402\n",
      "Epoch 112/400\n",
      "5/5 [==============================] - 0s 5ms/step - loss: 0.2400\n",
      "Epoch 113/400\n",
      "5/5 [==============================] - 0s 5ms/step - loss: 0.2397\n",
      "Epoch 114/400\n",
      "5/5 [==============================] - 0s 5ms/step - loss: 0.2395\n",
      "Epoch 115/400\n",
      "5/5 [==============================] - 0s 5ms/step - loss: 0.2393\n",
      "Epoch 116/400\n",
      "5/5 [==============================] - 0s 5ms/step - loss: 0.2390\n",
      "Epoch 117/400\n",
      "5/5 [==============================] - 0s 4ms/step - loss: 0.2388\n",
      "Epoch 118/400\n",
      "5/5 [==============================] - 0s 4ms/step - loss: 0.2386\n",
      "Epoch 119/400\n",
      "5/5 [==============================] - 0s 5ms/step - loss: 0.2384\n",
      "Epoch 120/400\n",
      "5/5 [==============================] - 0s 4ms/step - loss: 0.2381\n",
      "Epoch 121/400\n",
      "5/5 [==============================] - 0s 4ms/step - loss: 0.2379\n",
      "Epoch 122/400\n",
      "5/5 [==============================] - 0s 4ms/step - loss: 0.2377\n",
      "Epoch 123/400\n",
      "5/5 [==============================] - 0s 3ms/step - loss: 0.2374\n",
      "Epoch 124/400\n",
      "5/5 [==============================] - 0s 5ms/step - loss: 0.2372\n",
      "Epoch 125/400\n",
      "5/5 [==============================] - 0s 6ms/step - loss: 0.2370\n",
      "Epoch 126/400\n",
      "5/5 [==============================] - 0s 4ms/step - loss: 0.2367\n",
      "Epoch 127/400\n",
      "5/5 [==============================] - 0s 6ms/step - loss: 0.2365\n",
      "Epoch 128/400\n",
      "5/5 [==============================] - 0s 5ms/step - loss: 0.2363\n",
      "Epoch 129/400\n",
      "5/5 [==============================] - 0s 5ms/step - loss: 0.2361\n",
      "Epoch 130/400\n",
      "5/5 [==============================] - 0s 5ms/step - loss: 0.2358\n",
      "Epoch 131/400\n",
      "5/5 [==============================] - 0s 5ms/step - loss: 0.2356\n",
      "Epoch 132/400\n",
      "5/5 [==============================] - 0s 4ms/step - loss: 0.2354\n",
      "Epoch 133/400\n",
      "5/5 [==============================] - 0s 4ms/step - loss: 0.2351\n",
      "Epoch 134/400\n",
      "5/5 [==============================] - 0s 3ms/step - loss: 0.2349\n",
      "Epoch 135/400\n",
      "5/5 [==============================] - 0s 4ms/step - loss: 0.2347\n",
      "Epoch 136/400\n",
      "5/5 [==============================] - 0s 5ms/step - loss: 0.2345\n",
      "Epoch 137/400\n",
      "5/5 [==============================] - 0s 5ms/step - loss: 0.2342\n",
      "Epoch 138/400\n",
      "5/5 [==============================] - 0s 5ms/step - loss: 0.2340\n",
      "Epoch 139/400\n",
      "5/5 [==============================] - 0s 4ms/step - loss: 0.2338\n",
      "Epoch 140/400\n",
      "5/5 [==============================] - 0s 4ms/step - loss: 0.2336\n",
      "Epoch 141/400\n",
      "5/5 [==============================] - 0s 4ms/step - loss: 0.2333\n",
      "Epoch 142/400\n",
      "5/5 [==============================] - 0s 3ms/step - loss: 0.2331\n",
      "Epoch 143/400\n",
      "5/5 [==============================] - 0s 4ms/step - loss: 0.2329\n",
      "Epoch 144/400\n",
      "5/5 [==============================] - 0s 5ms/step - loss: 0.2327\n",
      "Epoch 145/400\n",
      "5/5 [==============================] - 0s 4ms/step - loss: 0.2324\n",
      "Epoch 146/400\n",
      "5/5 [==============================] - 0s 4ms/step - loss: 0.2322\n",
      "Epoch 147/400\n",
      "5/5 [==============================] - 0s 5ms/step - loss: 0.2320\n",
      "Epoch 148/400\n",
      "5/5 [==============================] - 0s 5ms/step - loss: 0.2318\n",
      "Epoch 149/400\n",
      "5/5 [==============================] - 0s 5ms/step - loss: 0.2315\n",
      "Epoch 150/400\n",
      "5/5 [==============================] - 0s 5ms/step - loss: 0.2313\n",
      "Epoch 151/400\n",
      "5/5 [==============================] - 0s 5ms/step - loss: 0.2311\n",
      "Epoch 152/400\n",
      "5/5 [==============================] - 0s 5ms/step - loss: 0.2309\n",
      "Epoch 153/400\n",
      "5/5 [==============================] - 0s 5ms/step - loss: 0.2306\n",
      "Epoch 154/400\n",
      "5/5 [==============================] - 0s 4ms/step - loss: 0.2304\n",
      "Epoch 155/400\n",
      "5/5 [==============================] - 0s 4ms/step - loss: 0.2302\n",
      "Epoch 156/400\n",
      "5/5 [==============================] - 0s 4ms/step - loss: 0.2300\n",
      "Epoch 157/400\n",
      "5/5 [==============================] - 0s 4ms/step - loss: 0.2297\n",
      "Epoch 158/400\n",
      "5/5 [==============================] - 0s 4ms/step - loss: 0.2295\n",
      "Epoch 159/400\n",
      "5/5 [==============================] - 0s 4ms/step - loss: 0.2293\n",
      "Epoch 160/400\n",
      "5/5 [==============================] - 0s 4ms/step - loss: 0.2291\n",
      "Epoch 161/400\n",
      "5/5 [==============================] - 0s 5ms/step - loss: 0.2288\n",
      "Epoch 162/400\n",
      "5/5 [==============================] - 0s 4ms/step - loss: 0.2286\n",
      "Epoch 163/400\n",
      "5/5 [==============================] - 0s 5ms/step - loss: 0.2284\n",
      "Epoch 164/400\n",
      "5/5 [==============================] - 0s 4ms/step - loss: 0.2282\n",
      "Epoch 165/400\n",
      "5/5 [==============================] - 0s 4ms/step - loss: 0.2280\n",
      "Epoch 166/400\n",
      "5/5 [==============================] - 0s 4ms/step - loss: 0.2277\n",
      "Epoch 167/400\n",
      "5/5 [==============================] - 0s 4ms/step - loss: 0.2275\n",
      "Epoch 168/400\n",
      "5/5 [==============================] - 0s 4ms/step - loss: 0.2273\n",
      "Epoch 169/400\n",
      "5/5 [==============================] - 0s 4ms/step - loss: 0.2271\n",
      "Epoch 170/400\n",
      "5/5 [==============================] - 0s 4ms/step - loss: 0.2269\n",
      "Epoch 171/400\n",
      "5/5 [==============================] - 0s 5ms/step - loss: 0.2266\n",
      "Epoch 172/400\n",
      "5/5 [==============================] - 0s 4ms/step - loss: 0.2264\n",
      "Epoch 173/400\n",
      "5/5 [==============================] - 0s 4ms/step - loss: 0.2262\n",
      "Epoch 174/400\n",
      "5/5 [==============================] - 0s 4ms/step - loss: 0.2260\n",
      "Epoch 175/400\n",
      "5/5 [==============================] - 0s 5ms/step - loss: 0.2258\n",
      "Epoch 176/400\n",
      "5/5 [==============================] - 0s 5ms/step - loss: 0.2255\n",
      "Epoch 177/400\n",
      "5/5 [==============================] - 0s 4ms/step - loss: 0.2253\n",
      "Epoch 178/400\n",
      "5/5 [==============================] - 0s 3ms/step - loss: 0.2251\n",
      "Epoch 179/400\n",
      "5/5 [==============================] - 0s 4ms/step - loss: 0.2249\n",
      "Epoch 180/400\n",
      "5/5 [==============================] - 0s 4ms/step - loss: 0.2247\n",
      "Epoch 181/400\n",
      "5/5 [==============================] - 0s 5ms/step - loss: 0.2244\n",
      "Epoch 182/400\n",
      "5/5 [==============================] - 0s 6ms/step - loss: 0.2242\n",
      "Epoch 183/400\n",
      "5/5 [==============================] - 0s 5ms/step - loss: 0.2240\n",
      "Epoch 184/400\n",
      "5/5 [==============================] - 0s 4ms/step - loss: 0.2238\n",
      "Epoch 185/400\n",
      "5/5 [==============================] - 0s 4ms/step - loss: 0.2236\n",
      "Epoch 186/400\n",
      "5/5 [==============================] - 0s 5ms/step - loss: 0.2234\n",
      "Epoch 187/400\n",
      "5/5 [==============================] - 0s 5ms/step - loss: 0.2231\n",
      "Epoch 188/400\n",
      "5/5 [==============================] - 0s 4ms/step - loss: 0.2229\n",
      "Epoch 189/400\n",
      "5/5 [==============================] - 0s 5ms/step - loss: 0.2227\n",
      "Epoch 190/400\n",
      "5/5 [==============================] - 0s 4ms/step - loss: 0.2225\n",
      "Epoch 191/400\n",
      "5/5 [==============================] - 0s 3ms/step - loss: 0.2223\n",
      "Epoch 192/400\n",
      "5/5 [==============================] - 0s 4ms/step - loss: 0.2221\n",
      "Epoch 193/400\n",
      "5/5 [==============================] - 0s 4ms/step - loss: 0.2218\n",
      "Epoch 194/400\n",
      "5/5 [==============================] - 0s 5ms/step - loss: 0.2216\n",
      "Epoch 195/400\n",
      "5/5 [==============================] - 0s 4ms/step - loss: 0.2214\n",
      "Epoch 196/400\n",
      "5/5 [==============================] - 0s 6ms/step - loss: 0.2212\n",
      "Epoch 197/400\n",
      "5/5 [==============================] - 0s 4ms/step - loss: 0.2210\n",
      "Epoch 198/400\n",
      "5/5 [==============================] - 0s 4ms/step - loss: 0.2208\n",
      "Epoch 199/400\n",
      "5/5 [==============================] - 0s 5ms/step - loss: 0.2206\n",
      "Epoch 200/400\n",
      "5/5 [==============================] - 0s 4ms/step - loss: 0.2203\n",
      "Epoch 201/400\n",
      "5/5 [==============================] - 0s 4ms/step - loss: 0.2201\n",
      "Epoch 202/400\n",
      "5/5 [==============================] - 0s 4ms/step - loss: 0.2199\n",
      "Epoch 203/400\n",
      "5/5 [==============================] - 0s 4ms/step - loss: 0.2197\n",
      "Epoch 204/400\n",
      "5/5 [==============================] - 0s 5ms/step - loss: 0.2195\n",
      "Epoch 205/400\n",
      "5/5 [==============================] - 0s 4ms/step - loss: 0.2193\n",
      "Epoch 206/400\n"
     ]
    },
    {
     "name": "stdout",
     "output_type": "stream",
     "text": [
      "5/5 [==============================] - 0s 5ms/step - loss: 0.2191\n",
      "Epoch 207/400\n",
      "5/5 [==============================] - 0s 4ms/step - loss: 0.2189\n",
      "Epoch 208/400\n",
      "5/5 [==============================] - 0s 4ms/step - loss: 0.2186\n",
      "Epoch 209/400\n",
      "5/5 [==============================] - 0s 5ms/step - loss: 0.2184\n",
      "Epoch 210/400\n",
      "5/5 [==============================] - 0s 5ms/step - loss: 0.2182\n",
      "Epoch 211/400\n",
      "5/5 [==============================] - 0s 4ms/step - loss: 0.2180\n",
      "Epoch 212/400\n",
      "5/5 [==============================] - 0s 5ms/step - loss: 0.2178\n",
      "Epoch 213/400\n",
      "5/5 [==============================] - 0s 5ms/step - loss: 0.2176\n",
      "Epoch 214/400\n",
      "5/5 [==============================] - 0s 5ms/step - loss: 0.2174\n",
      "Epoch 215/400\n",
      "5/5 [==============================] - 0s 4ms/step - loss: 0.2172\n",
      "Epoch 216/400\n",
      "5/5 [==============================] - 0s 4ms/step - loss: 0.2169\n",
      "Epoch 217/400\n",
      "5/5 [==============================] - 0s 4ms/step - loss: 0.2167\n",
      "Epoch 218/400\n",
      "5/5 [==============================] - 0s 5ms/step - loss: 0.2165\n",
      "Epoch 219/400\n",
      "5/5 [==============================] - 0s 4ms/step - loss: 0.2163\n",
      "Epoch 220/400\n",
      "5/5 [==============================] - 0s 5ms/step - loss: 0.2161\n",
      "Epoch 221/400\n",
      "5/5 [==============================] - 0s 5ms/step - loss: 0.2159\n",
      "Epoch 222/400\n",
      "5/5 [==============================] - 0s 6ms/step - loss: 0.2157\n",
      "Epoch 223/400\n",
      "5/5 [==============================] - 0s 4ms/step - loss: 0.2155\n",
      "Epoch 224/400\n",
      "5/5 [==============================] - 0s 6ms/step - loss: 0.2153\n",
      "Epoch 225/400\n",
      "5/5 [==============================] - 0s 4ms/step - loss: 0.2151\n",
      "Epoch 226/400\n",
      "5/5 [==============================] - 0s 7ms/step - loss: 0.2148\n",
      "Epoch 227/400\n",
      "5/5 [==============================] - 0s 4ms/step - loss: 0.2146\n",
      "Epoch 228/400\n",
      "5/5 [==============================] - 0s 5ms/step - loss: 0.2144\n",
      "Epoch 229/400\n",
      "5/5 [==============================] - 0s 4ms/step - loss: 0.2142\n",
      "Epoch 230/400\n",
      "5/5 [==============================] - 0s 4ms/step - loss: 0.2140\n",
      "Epoch 231/400\n",
      "5/5 [==============================] - 0s 4ms/step - loss: 0.2138\n",
      "Epoch 232/400\n",
      "5/5 [==============================] - 0s 4ms/step - loss: 0.2136\n",
      "Epoch 233/400\n",
      "5/5 [==============================] - 0s 4ms/step - loss: 0.2134\n",
      "Epoch 234/400\n",
      "5/5 [==============================] - 0s 4ms/step - loss: 0.2132\n",
      "Epoch 235/400\n",
      "5/5 [==============================] - 0s 4ms/step - loss: 0.2130\n",
      "Epoch 236/400\n",
      "5/5 [==============================] - 0s 5ms/step - loss: 0.2128\n",
      "Epoch 237/400\n",
      "5/5 [==============================] - 0s 4ms/step - loss: 0.2126\n",
      "Epoch 238/400\n",
      "5/5 [==============================] - 0s 4ms/step - loss: 0.2124\n",
      "Epoch 239/400\n",
      "5/5 [==============================] - 0s 4ms/step - loss: 0.2121\n",
      "Epoch 240/400\n",
      "5/5 [==============================] - 0s 4ms/step - loss: 0.2119\n",
      "Epoch 241/400\n",
      "5/5 [==============================] - 0s 6ms/step - loss: 0.2117\n",
      "Epoch 242/400\n",
      "5/5 [==============================] - 0s 5ms/step - loss: 0.2115\n",
      "Epoch 243/400\n",
      "5/5 [==============================] - 0s 6ms/step - loss: 0.2113\n",
      "Epoch 244/400\n",
      "5/5 [==============================] - 0s 4ms/step - loss: 0.2111\n",
      "Epoch 245/400\n",
      "5/5 [==============================] - 0s 6ms/step - loss: 0.2109\n",
      "Epoch 246/400\n",
      "5/5 [==============================] - 0s 6ms/step - loss: 0.2107\n",
      "Epoch 247/400\n",
      "5/5 [==============================] - 0s 4ms/step - loss: 0.2105\n",
      "Epoch 248/400\n",
      "5/5 [==============================] - 0s 4ms/step - loss: 0.2103\n",
      "Epoch 249/400\n",
      "5/5 [==============================] - 0s 4ms/step - loss: 0.2101\n",
      "Epoch 250/400\n",
      "5/5 [==============================] - 0s 3ms/step - loss: 0.2099\n",
      "Epoch 251/400\n",
      "5/5 [==============================] - 0s 3ms/step - loss: 0.2097\n",
      "Epoch 252/400\n",
      "5/5 [==============================] - 0s 4ms/step - loss: 0.2095\n",
      "Epoch 253/400\n",
      "5/5 [==============================] - 0s 4ms/step - loss: 0.2093\n",
      "Epoch 254/400\n",
      "5/5 [==============================] - 0s 4ms/step - loss: 0.2091\n",
      "Epoch 255/400\n",
      "5/5 [==============================] - 0s 5ms/step - loss: 0.2089\n",
      "Epoch 256/400\n",
      "5/5 [==============================] - 0s 4ms/step - loss: 0.2087\n",
      "Epoch 257/400\n",
      "5/5 [==============================] - 0s 3ms/step - loss: 0.2085\n",
      "Epoch 258/400\n",
      "5/5 [==============================] - 0s 4ms/step - loss: 0.2083\n",
      "Epoch 259/400\n",
      "5/5 [==============================] - 0s 4ms/step - loss: 0.2081\n",
      "Epoch 260/400\n",
      "5/5 [==============================] - 0s 4ms/step - loss: 0.2079\n",
      "Epoch 261/400\n",
      "5/5 [==============================] - 0s 4ms/step - loss: 0.2077\n",
      "Epoch 262/400\n",
      "5/5 [==============================] - 0s 4ms/step - loss: 0.2075\n",
      "Epoch 263/400\n",
      "5/5 [==============================] - 0s 4ms/step - loss: 0.2073\n",
      "Epoch 264/400\n",
      "5/5 [==============================] - 0s 5ms/step - loss: 0.2071\n",
      "Epoch 265/400\n",
      "5/5 [==============================] - 0s 4ms/step - loss: 0.2068\n",
      "Epoch 266/400\n",
      "5/5 [==============================] - 0s 4ms/step - loss: 0.2066\n",
      "Epoch 267/400\n",
      "5/5 [==============================] - 0s 4ms/step - loss: 0.2064\n",
      "Epoch 268/400\n",
      "5/5 [==============================] - 0s 4ms/step - loss: 0.2062\n",
      "Epoch 269/400\n",
      "5/5 [==============================] - 0s 4ms/step - loss: 0.2060\n",
      "Epoch 270/400\n",
      "5/5 [==============================] - 0s 4ms/step - loss: 0.2058\n",
      "Epoch 271/400\n",
      "5/5 [==============================] - 0s 5ms/step - loss: 0.2056\n",
      "Epoch 272/400\n",
      "5/5 [==============================] - 0s 4ms/step - loss: 0.2054\n",
      "Epoch 273/400\n",
      "5/5 [==============================] - 0s 4ms/step - loss: 0.2052\n",
      "Epoch 274/400\n",
      "5/5 [==============================] - 0s 5ms/step - loss: 0.2050\n",
      "Epoch 275/400\n",
      "5/5 [==============================] - 0s 4ms/step - loss: 0.2048\n",
      "Epoch 276/400\n",
      "5/5 [==============================] - 0s 3ms/step - loss: 0.2046\n",
      "Epoch 277/400\n",
      "5/5 [==============================] - 0s 5ms/step - loss: 0.2044\n",
      "Epoch 278/400\n",
      "5/5 [==============================] - 0s 4ms/step - loss: 0.2042\n",
      "Epoch 279/400\n",
      "5/5 [==============================] - 0s 6ms/step - loss: 0.2041\n",
      "Epoch 280/400\n",
      "5/5 [==============================] - 0s 4ms/step - loss: 0.2039\n",
      "Epoch 281/400\n",
      "5/5 [==============================] - 0s 4ms/step - loss: 0.2037\n",
      "Epoch 282/400\n",
      "5/5 [==============================] - 0s 4ms/step - loss: 0.2035\n",
      "Epoch 283/400\n",
      "5/5 [==============================] - 0s 5ms/step - loss: 0.2033\n",
      "Epoch 284/400\n",
      "5/5 [==============================] - 0s 5ms/step - loss: 0.2031\n",
      "Epoch 285/400\n",
      "5/5 [==============================] - 0s 4ms/step - loss: 0.2029\n",
      "Epoch 286/400\n",
      "5/5 [==============================] - 0s 4ms/step - loss: 0.2027\n",
      "Epoch 287/400\n",
      "5/5 [==============================] - 0s 4ms/step - loss: 0.2025\n",
      "Epoch 288/400\n",
      "5/5 [==============================] - 0s 5ms/step - loss: 0.2023\n",
      "Epoch 289/400\n",
      "5/5 [==============================] - 0s 4ms/step - loss: 0.2021\n",
      "Epoch 290/400\n",
      "5/5 [==============================] - 0s 4ms/step - loss: 0.2019\n",
      "Epoch 291/400\n",
      "5/5 [==============================] - 0s 4ms/step - loss: 0.2017\n",
      "Epoch 292/400\n",
      "5/5 [==============================] - 0s 6ms/step - loss: 0.2015\n",
      "Epoch 293/400\n",
      "5/5 [==============================] - 0s 4ms/step - loss: 0.2013\n",
      "Epoch 294/400\n",
      "5/5 [==============================] - 0s 4ms/step - loss: 0.2011\n",
      "Epoch 295/400\n",
      "5/5 [==============================] - 0s 5ms/step - loss: 0.2009\n",
      "Epoch 296/400\n",
      "5/5 [==============================] - 0s 5ms/step - loss: 0.2007\n",
      "Epoch 297/400\n",
      "5/5 [==============================] - 0s 4ms/step - loss: 0.2005\n",
      "Epoch 298/400\n",
      "5/5 [==============================] - 0s 4ms/step - loss: 0.2003\n",
      "Epoch 299/400\n",
      "5/5 [==============================] - 0s 4ms/step - loss: 0.2001\n",
      "Epoch 300/400\n",
      "5/5 [==============================] - 0s 5ms/step - loss: 0.1999\n",
      "Epoch 301/400\n",
      "5/5 [==============================] - 0s 4ms/step - loss: 0.1997\n",
      "Epoch 302/400\n",
      "5/5 [==============================] - 0s 4ms/step - loss: 0.1995\n",
      "Epoch 303/400\n",
      "5/5 [==============================] - 0s 4ms/step - loss: 0.1993\n",
      "Epoch 304/400\n",
      "5/5 [==============================] - 0s 4ms/step - loss: 0.1992\n",
      "Epoch 305/400\n",
      "5/5 [==============================] - 0s 5ms/step - loss: 0.1990\n",
      "Epoch 306/400\n",
      "5/5 [==============================] - 0s 3ms/step - loss: 0.1988\n",
      "Epoch 307/400\n",
      "5/5 [==============================] - 0s 4ms/step - loss: 0.1986\n",
      "Epoch 308/400\n",
      "5/5 [==============================] - 0s 4ms/step - loss: 0.1984\n",
      "Epoch 309/400\n",
      "5/5 [==============================] - 0s 4ms/step - loss: 0.1982\n",
      "Epoch 310/400\n",
      "5/5 [==============================] - 0s 5ms/step - loss: 0.1980\n",
      "Epoch 311/400\n",
      "5/5 [==============================] - 0s 4ms/step - loss: 0.1978\n",
      "Epoch 312/400\n",
      "5/5 [==============================] - 0s 4ms/step - loss: 0.1976\n",
      "Epoch 313/400\n",
      "5/5 [==============================] - 0s 5ms/step - loss: 0.1974\n",
      "Epoch 314/400\n",
      "5/5 [==============================] - 0s 4ms/step - loss: 0.1972\n",
      "Epoch 315/400\n",
      "5/5 [==============================] - 0s 5ms/step - loss: 0.1970\n",
      "Epoch 316/400\n",
      "5/5 [==============================] - 0s 4ms/step - loss: 0.1968\n",
      "Epoch 317/400\n",
      "5/5 [==============================] - 0s 5ms/step - loss: 0.1966\n",
      "Epoch 318/400\n",
      "5/5 [==============================] - 0s 5ms/step - loss: 0.1965\n",
      "Epoch 319/400\n",
      "5/5 [==============================] - 0s 5ms/step - loss: 0.1963\n",
      "Epoch 320/400\n",
      "5/5 [==============================] - 0s 4ms/step - loss: 0.1961\n",
      "Epoch 321/400\n",
      "5/5 [==============================] - 0s 4ms/step - loss: 0.1959\n",
      "Epoch 322/400\n",
      "5/5 [==============================] - 0s 5ms/step - loss: 0.1957\n",
      "Epoch 323/400\n",
      "5/5 [==============================] - 0s 4ms/step - loss: 0.1955\n",
      "Epoch 324/400\n",
      "5/5 [==============================] - 0s 4ms/step - loss: 0.1953\n",
      "Epoch 325/400\n",
      "5/5 [==============================] - 0s 5ms/step - loss: 0.1951\n",
      "Epoch 326/400\n",
      "5/5 [==============================] - 0s 5ms/step - loss: 0.1949\n",
      "Epoch 327/400\n",
      "5/5 [==============================] - 0s 5ms/step - loss: 0.1947\n",
      "Epoch 328/400\n",
      "5/5 [==============================] - 0s 4ms/step - loss: 0.1946\n",
      "Epoch 329/400\n",
      "5/5 [==============================] - 0s 5ms/step - loss: 0.1944\n",
      "Epoch 330/400\n",
      "5/5 [==============================] - 0s 4ms/step - loss: 0.1942\n",
      "Epoch 331/400\n",
      "5/5 [==============================] - 0s 4ms/step - loss: 0.1940\n",
      "Epoch 332/400\n",
      "5/5 [==============================] - 0s 5ms/step - loss: 0.1938\n",
      "Epoch 333/400\n",
      "5/5 [==============================] - 0s 4ms/step - loss: 0.1936\n",
      "Epoch 334/400\n",
      "5/5 [==============================] - 0s 4ms/step - loss: 0.1934\n",
      "Epoch 335/400\n",
      "5/5 [==============================] - 0s 4ms/step - loss: 0.1932\n",
      "Epoch 336/400\n",
      "5/5 [==============================] - 0s 4ms/step - loss: 0.1931\n",
      "Epoch 337/400\n",
      "5/5 [==============================] - 0s 5ms/step - loss: 0.1929\n",
      "Epoch 338/400\n",
      "5/5 [==============================] - 0s 4ms/step - loss: 0.1927\n",
      "Epoch 339/400\n",
      "5/5 [==============================] - 0s 4ms/step - loss: 0.1925\n",
      "Epoch 340/400\n",
      "5/5 [==============================] - 0s 5ms/step - loss: 0.1923\n",
      "Epoch 341/400\n",
      "5/5 [==============================] - 0s 6ms/step - loss: 0.1921\n",
      "Epoch 342/400\n",
      "5/5 [==============================] - 0s 5ms/step - loss: 0.1919\n",
      "Epoch 343/400\n",
      "5/5 [==============================] - 0s 4ms/step - loss: 0.1917\n",
      "Epoch 344/400\n",
      "5/5 [==============================] - 0s 4ms/step - loss: 0.1916\n",
      "Epoch 345/400\n",
      "5/5 [==============================] - 0s 4ms/step - loss: 0.1914\n",
      "Epoch 346/400\n",
      "5/5 [==============================] - 0s 4ms/step - loss: 0.1912\n",
      "Epoch 347/400\n",
      "5/5 [==============================] - 0s 4ms/step - loss: 0.1910\n",
      "Epoch 348/400\n",
      "5/5 [==============================] - 0s 4ms/step - loss: 0.1908\n",
      "Epoch 349/400\n",
      "5/5 [==============================] - 0s 5ms/step - loss: 0.1906\n",
      "Epoch 350/400\n",
      "5/5 [==============================] - 0s 5ms/step - loss: 0.1904\n",
      "Epoch 351/400\n",
      "5/5 [==============================] - 0s 4ms/step - loss: 0.1903\n",
      "Epoch 352/400\n",
      "5/5 [==============================] - 0s 5ms/step - loss: 0.1901\n",
      "Epoch 353/400\n",
      "5/5 [==============================] - 0s 5ms/step - loss: 0.1899\n",
      "Epoch 354/400\n",
      "5/5 [==============================] - 0s 6ms/step - loss: 0.1897\n",
      "Epoch 355/400\n",
      "5/5 [==============================] - 0s 5ms/step - loss: 0.1895\n",
      "Epoch 356/400\n",
      "5/5 [==============================] - 0s 4ms/step - loss: 0.1893\n",
      "Epoch 357/400\n",
      "5/5 [==============================] - 0s 4ms/step - loss: 0.1892\n",
      "Epoch 358/400\n",
      "5/5 [==============================] - 0s 5ms/step - loss: 0.1890\n",
      "Epoch 359/400\n",
      "5/5 [==============================] - 0s 5ms/step - loss: 0.1888\n",
      "Epoch 360/400\n",
      "5/5 [==============================] - 0s 4ms/step - loss: 0.1886\n",
      "Epoch 361/400\n",
      "5/5 [==============================] - 0s 5ms/step - loss: 0.1884\n",
      "Epoch 362/400\n",
      "5/5 [==============================] - 0s 5ms/step - loss: 0.1882\n",
      "Epoch 363/400\n",
      "5/5 [==============================] - 0s 6ms/step - loss: 0.1881\n",
      "Epoch 364/400\n",
      "5/5 [==============================] - 0s 4ms/step - loss: 0.1879\n",
      "Epoch 365/400\n",
      "5/5 [==============================] - 0s 4ms/step - loss: 0.1877\n",
      "Epoch 366/400\n",
      "5/5 [==============================] - 0s 3ms/step - loss: 0.1875\n",
      "Epoch 367/400\n",
      "5/5 [==============================] - 0s 4ms/step - loss: 0.1873\n",
      "Epoch 368/400\n",
      "5/5 [==============================] - 0s 3ms/step - loss: 0.1871\n",
      "Epoch 369/400\n",
      "5/5 [==============================] - 0s 4ms/step - loss: 0.1870\n",
      "Epoch 370/400\n",
      "5/5 [==============================] - 0s 4ms/step - loss: 0.1868\n",
      "Epoch 371/400\n",
      "5/5 [==============================] - 0s 4ms/step - loss: 0.1866\n",
      "Epoch 372/400\n",
      "5/5 [==============================] - 0s 4ms/step - loss: 0.1864\n",
      "Epoch 373/400\n",
      "5/5 [==============================] - 0s 4ms/step - loss: 0.1862\n",
      "Epoch 374/400\n",
      "5/5 [==============================] - 0s 5ms/step - loss: 0.1861\n",
      "Epoch 375/400\n",
      "5/5 [==============================] - 0s 4ms/step - loss: 0.1859\n",
      "Epoch 376/400\n",
      "5/5 [==============================] - 0s 4ms/step - loss: 0.1857\n",
      "Epoch 377/400\n",
      "5/5 [==============================] - 0s 4ms/step - loss: 0.1855\n",
      "Epoch 378/400\n",
      "5/5 [==============================] - 0s 5ms/step - loss: 0.1853\n",
      "Epoch 379/400\n",
      "5/5 [==============================] - 0s 4ms/step - loss: 0.1852\n",
      "Epoch 380/400\n",
      "5/5 [==============================] - 0s 4ms/step - loss: 0.1850\n",
      "Epoch 381/400\n",
      "5/5 [==============================] - 0s 4ms/step - loss: 0.1848\n",
      "Epoch 382/400\n",
      "5/5 [==============================] - 0s 4ms/step - loss: 0.1846\n",
      "Epoch 383/400\n",
      "5/5 [==============================] - 0s 4ms/step - loss: 0.1844\n",
      "Epoch 384/400\n",
      "5/5 [==============================] - 0s 4ms/step - loss: 0.1843\n",
      "Epoch 385/400\n",
      "5/5 [==============================] - 0s 4ms/step - loss: 0.1841\n",
      "Epoch 386/400\n",
      "5/5 [==============================] - 0s 4ms/step - loss: 0.1839\n",
      "Epoch 387/400\n",
      "5/5 [==============================] - 0s 4ms/step - loss: 0.1837\n",
      "Epoch 388/400\n",
      "5/5 [==============================] - 0s 5ms/step - loss: 0.1835\n",
      "Epoch 389/400\n",
      "5/5 [==============================] - 0s 5ms/step - loss: 0.1834\n",
      "Epoch 390/400\n",
      "5/5 [==============================] - 0s 4ms/step - loss: 0.1832\n",
      "Epoch 391/400\n",
      "5/5 [==============================] - 0s 4ms/step - loss: 0.1830\n",
      "Epoch 392/400\n",
      "5/5 [==============================] - 0s 4ms/step - loss: 0.1828\n",
      "Epoch 393/400\n",
      "5/5 [==============================] - 0s 4ms/step - loss: 0.1827\n",
      "Epoch 394/400\n",
      "5/5 [==============================] - 0s 5ms/step - loss: 0.1825\n",
      "Epoch 395/400\n",
      "5/5 [==============================] - 0s 4ms/step - loss: 0.1823\n",
      "Epoch 396/400\n",
      "5/5 [==============================] - 0s 4ms/step - loss: 0.1821\n",
      "Epoch 397/400\n",
      "5/5 [==============================] - 0s 4ms/step - loss: 0.1820\n",
      "Epoch 398/400\n",
      "5/5 [==============================] - 0s 4ms/step - loss: 0.1818\n",
      "Epoch 399/400\n",
      "5/5 [==============================] - 0s 4ms/step - loss: 0.1816\n",
      "Epoch 400/400\n",
      "5/5 [==============================] - 0s 6ms/step - loss: 0.1814\n"
     ]
    }
   ],
   "source": [
    "loss_keras_SB = execute_method(data_SB, n_hidden, epochs, eta)"
   ]
  },
  {
   "cell_type": "code",
   "execution_count": 39,
   "id": "bc59acb8",
   "metadata": {
    "pycharm": {
     "name": "#%%\n"
    }
   },
   "outputs": [
    {
     "data": {
      "image/png": "[encoded data removed]",
      "text/plain": [
       "<Figure size 800x600 with 1 Axes>"
      ]
     },
     "metadata": {},
     "output_type": "display_data"
    }
   ],
   "source": [
    "import matplotlib.pyplot as plt\n",
    "plt.figure(figsize=(8,6))\n",
    "plt.plot(range(len(loss_keras_SB['loss'])), loss_keras_SB['loss'] , label=f'MSE {n_hidden}, epochs={epochs}, eta={eta}')\n",
    "plt.legend()\n",
    "plt.show()"
   ]
  },
  {
   "cell_type": "markdown",
   "id": "5a459b8b",
   "metadata": {
    "pycharm": {
     "name": "#%% md\n"
    }
   },
   "source": [
    "## Создание мини-батча из матрицы"
   ]
  },
  {
   "cell_type": "code",
   "execution_count": 81,
   "id": "14464a9b",
   "metadata": {
    "pycharm": {
     "name": "#%%\n"
    }
   },
   "outputs": [
    {
     "data": {
      "text/plain": [
       "(170000,\n",
       " 13000,\n",
       " 3000,\n",
       " 12000000000,\n",
       " 38000000,\n",
       " 0.8930666666666668,\n",
       " 0.89009,\n",
       " 1.00547,\n",
       " 1.0)"
      ]
     },
     "execution_count": 81,
     "metadata": {},
     "output_type": "execute_result"
    }
   ],
   "source": [
    "X[7]"
   ]
  },
  {
   "cell_type": "code",
   "execution_count": 79,
   "id": "7e0e9e16",
   "metadata": {
    "pycharm": {
     "name": "#%%\n"
    }
   },
   "outputs": [
    {
     "data": {
      "text/plain": [
       "[47, 40, 19, 14, 4]"
      ]
     },
     "execution_count": 79,
     "metadata": {},
     "output_type": "execute_result"
    }
   ],
   "source": [
    "index_list = [int(abs(Neural_Network.random_list_generator(5)[q])*len(X)) for q in range(5)]\n",
    "index_list"
   ]
  },
  {
   "cell_type": "code",
   "execution_count": 82,
   "id": "ec5e98b6",
   "metadata": {
    "pycharm": {
     "name": "#%%\n"
    }
   },
   "outputs": [],
   "source": [
    "batch = []\n",
    "for ind in range(len(index_list)):\n",
    "    batch_row = X[index_list[ind]]\n",
    "    batch.append(batch_row)"
   ]
  },
  {
   "cell_type": "code",
   "execution_count": 84,
   "id": "e6ae7193",
   "metadata": {
    "pycharm": {
     "name": "#%%\n"
    }
   },
   "outputs": [],
   "source": [
    "def get_batch(matrix, batch_size):\n",
    "    index_list = [int(abs(Neural_Network.random_list_generator(batch_size)[q])*len(matrix)) for q in range(batch_size)]\n",
    "    batch = []\n",
    "    for ind in range(len(index_list)):\n",
    "        batch_row = matrix[index_list[ind]]\n",
    "        batch.append(batch_row)\n",
    "    return batch"
   ]
  },
  {
   "cell_type": "markdown",
   "id": "e29123d2",
   "metadata": {
    "pycharm": {
     "name": "#%% md\n"
    }
   },
   "source": [
    "Добавим такую функцию в класс:"
   ]
  },
  {
   "cell_type": "code",
   "execution_count": 3,
   "id": "c2e7e3ef",
   "metadata": {
    "pycharm": {
     "name": "#%%\n"
    }
   },
   "outputs": [],
   "source": [
    "class Neural_Network(object):\n",
    "    def __init__(self):#, n_hidden, eta, epochs): \n",
    "        pass \n",
    "        \n",
    "    @staticmethod\n",
    "    def norm_matrix(matrix):\n",
    "\n",
    "        matrix_transpose = list(zip(*matrix))\n",
    "\n",
    "        matrix_empty = []\n",
    "        for m in range(len(matrix_transpose)):\n",
    "            normed_row = [abs(list(zip(*matrix))[m][x])/max(list(zip(*matrix))[m]) for x in range(len(list(zip(*matrix))[m]))]\n",
    "            matrix_empty.append(normed_row)\n",
    "\n",
    "        normed_matrix = list(zip(*matrix_empty))\n",
    "\n",
    "        return normed_matrix\n",
    "        \n",
    "    \n",
    "    @staticmethod\n",
    "    def random_number():\n",
    "        import datetime    \n",
    "        my_dt_ob = datetime.datetime.now()\n",
    "        date_list = [my_dt_ob.year, my_dt_ob.month, my_dt_ob.day, my_dt_ob.hour, my_dt_ob.minute, my_dt_ob.second, my_dt_ob.microsecond]     \n",
    "        dt_random_num = date_list[6]**(1/(date_list[5]+0.0001))*date_list[4]\n",
    "        return dt_random_num  \n",
    "    \n",
    "    @staticmethod\n",
    "    def random_list_generator(list_len):\n",
    "        my_random_list = []\n",
    "        for i in range(list_len):\n",
    "            my_random_list_i = (i+1)*(Neural_Network.random_number()*(i+1)-i*2)\n",
    "            my_random_list.append(my_random_list_i-round(my_random_list_i))\n",
    "        return my_random_list\n",
    "   \n",
    "    @staticmethod\n",
    "    def random_matrix_generator(rows_len, cols_len):\n",
    "        my_random_chain = Neural_Network.random_list_generator(rows_len * cols_len)   \n",
    "        nev = [my_random_chain[i:i+cols_len] for i in range(0,len(my_random_chain), cols_len)]\n",
    "        return nev\n",
    "    \n",
    "    '''@staticmethod\n",
    "    def ReLu(z):\n",
    "        return z if z>0 else 0\n",
    "    \n",
    "    @staticmethod\n",
    "    def ReLu_prime(z):\n",
    "        return 1 if z>=0 else 0'''\n",
    "\n",
    "    @staticmethod\n",
    "    def sigmoid(z):\n",
    "        from math import exp\n",
    "        # exp = 2.71828182845904523536028747135266249775724709369995\n",
    "        try:\n",
    "          res =  1. / (1. + exp(-z))#1/(1+exp(-z))\n",
    "        except OverflowError:\n",
    "          res = float('inf')\n",
    "        return res\n",
    "    \n",
    "    @staticmethod\n",
    "    def sigmoid_prime(z):\n",
    "        from math import exp\n",
    "        # exp = 2.71828182845904523536028747135266249775724709369995\n",
    "        try:\n",
    "          res =  exp(-z) / (1. + exp(-z))**2 #exp(-z)/((1+exp(-z))**2)\n",
    "        except OverflowError:\n",
    "          res = float('inf')\n",
    "        return res\n",
    "        # return exp(-z)/((1+exp(-z))**2)\n",
    "\n",
    "    @staticmethod\n",
    "    def matrix_multiple(a, b):\n",
    "        zip_b = zip(*b)\n",
    "        zip_b = list(zip_b)\n",
    "        return [[sum(ele_a*ele_b for ele_a, ele_b in zip(row_a, col_b)) \n",
    "                 for col_b in zip_b] for row_a in a]\n",
    "    \n",
    "    @staticmethod\n",
    "    def matrix_diff(matrix1, matrix2):   \n",
    "        empty_chain = [None]*len(matrix1)*len(matrix1[0])\n",
    "        matrix_diff = [empty_chain[i:i+len(matrix1[0])] for i in range(0, len(empty_chain), len(matrix1[0]))]\n",
    "        for ii in range(len(matrix1)):\n",
    "            for jj in range(len(matrix1[0])):\n",
    "                matrix_diff[ii][jj] = matrix1[ii][jj] - matrix2[ii][jj]\n",
    "        return matrix_diff\n",
    "    \n",
    "    @staticmethod\n",
    "    def num_matrix(n, matrix):\n",
    "        return [list(map(lambda x: x*n, z)) for z in matrix]\n",
    "    \n",
    "    @staticmethod\n",
    "    def get_batch(matrix_X, matrix_Y, batch_size):\n",
    "        index_list = [int(abs(Neural_Network.random_list_generator(batch_size)[q])*len(matrix_X)) for q in range(batch_size)]\n",
    "        batch_X, batch_Y = [], []\n",
    "        for ind in range(len(index_list)):\n",
    "            batch_X_row = matrix_X[index_list[ind]]\n",
    "            batch_X.append(batch_X_row)\n",
    "            batch_Y_row = matrix_Y[index_list[ind]]\n",
    "            batch_Y.append(batch_Y_row)\n",
    "        return batch_X, batch_Y\n",
    "    \n",
    "    @staticmethod\n",
    "    def initial_weights_matrix_generator(matrix_X, matrix_Y, n_hidden):\n",
    "        w_rows_list = [len(matrix_X[0])] + n_hidden\n",
    "        w_cols_list = n_hidden +[len(matrix_Y[0])]\n",
    "        w_dim_list = list(zip(w_rows_list, w_cols_list))\n",
    "        initial_weights_matrix_list = []\n",
    "        for iw in range(len(w_dim_list)):\n",
    "            W_i = Neural_Network.random_matrix_generator(w_dim_list[iw][0], w_dim_list[iw][1])\n",
    "            initial_weights_matrix_list.append(W_i)\n",
    "        return initial_weights_matrix_list\n",
    "      \n",
    "    @staticmethod\n",
    "    def z_a_list_func(X_, n_hidden, weights):\n",
    "        z_initial = Neural_Network.matrix_multiple(X_, weights[0])\n",
    "        a_initial =  [*zip(*[[Neural_Network.sigmoid(z_initial[i][j]) for i in range(len(z_initial))] for j in range(len(z_initial[0]))])]\n",
    "\n",
    "        z_list = []\n",
    "        z_list.append(z_initial)\n",
    "\n",
    "        a_list = []\n",
    "        a_list.append(a_initial)\n",
    "\n",
    "        for g in range(len(n_hidden)):\n",
    "            z_g = Neural_Network.matrix_multiple(a_list[g], weights[g+1])\n",
    "            z_list.append(z_g)\n",
    "            a_g = [*zip(*[[Neural_Network.sigmoid(z_list[g+1][a][b]) for a in range(len(z_list[g+1]))] for b in range(len(z_list[g+1][0]))])]\n",
    "            a_list.append(a_g)\n",
    "        return z_list, a_list\n",
    "    \n",
    "    @staticmethod    \n",
    "    def prime(n_hidden, z_list_):\n",
    "        prime_list = []\n",
    "        for p in range(len(n_hidden)+1):\n",
    "            prime_list_p = [*zip(*[[Neural_Network.sigmoid_prime(z_list_[p][i][j]) for i in range(len(z_list_[p]))] for j in range(len(z_list_[p][0]))])]\n",
    "            prime_list.append(prime_list_p)\n",
    "        return prime_list\n",
    "    \n",
    "    @staticmethod    \n",
    "    def discrepansy(Y_, a_list_):\n",
    "        discrepansy_list = []\n",
    "        for yy in range(len(Y_)):\n",
    "            dis_i = Y_[yy][0] - a_list_[-1][yy][0] #Neural_Network.matrix_diff(Y[yy], a_list_[-1][yy])  #\n",
    "            discrepansy_list.append(dis_i)\n",
    "        discrepansy_list = [discrepansy_list[i:i+len(Y_[0])] for i in range(0,len(Y_), len(Y_[0]))]\n",
    "        return discrepansy_list\n",
    "    \n",
    "    @staticmethod    \n",
    "    def delta(Y_delta, weights_delta, discrepansy_, prime_):\n",
    "        delta_last = [[discrepansy_[qi][0]*prime_[-1][qi][0] for qi in range(len(Y_delta))][iq:iq+len(Y_delta[0])] for iq in range(0,len(Y_delta), len(Y_delta[0]))] \n",
    "        delta_list = []\n",
    "        delta_list.append(delta_last)\n",
    "        for d in range(len(n_hidden)):\n",
    "            delta_i = Neural_Network.matrix_multiple(delta_list[0], Neural_Network.matrix_multiple([*zip(*weights_delta[-d-1])], prime_[-d-2]))\n",
    "            delta_list.insert(0, delta_i)\n",
    "        return delta_list\n",
    "    \n",
    "    @staticmethod    \n",
    "    def dEdW(X_de, n_hidden, a_list_, delta_):\n",
    "        dEdW_list = []\n",
    "        corr_list = [X_de]+a_list_[0:len(a_list_)-1]\n",
    "        for e in range(len(n_hidden)+1):\n",
    "            dEdW_e = Neural_Network.matrix_multiple([*zip(*corr_list[e])], delta_[e])\n",
    "            dEdW_list.append(dEdW_e)\n",
    "        return dEdW_list\n",
    "    \n",
    "    @staticmethod    \n",
    "    def weights_update(eta, weights_u, dEdW_f):\n",
    "        w_updated_matrix = []\n",
    "        for n in range(len(n_hidden)+1):\n",
    "            w_updated_n = Neural_Network.matrix_diff(weights_u[n], Neural_Network.num_matrix(-eta, dEdW_f[n]))\n",
    "            w_updated_matrix.append(w_updated_n)\n",
    "        return  w_updated_matrix\n",
    "    \n",
    "    @staticmethod\n",
    "    def SGD(X_c, Y_c, batch_size_, n_hidden, epochs, eta):\n",
    "        \n",
    "        X_normed = Neural_Network.norm_matrix(X_c)\n",
    "        Y_normed = Neural_Network.norm_matrix(Y_c)\n",
    "        \n",
    "        X_initial_batch, Y_initial_batch = Neural_Network.get_batch(X_normed, Y_normed, batch_size_)\n",
    "        #Y_normed = Y\n",
    "        \n",
    "        w_list_total = []\n",
    "        a_list_total= []\n",
    "        z_list_total= []\n",
    "        prime_list_total = []\n",
    "        discrepansy_list_total = []\n",
    "        delta_list_total = []\n",
    "        dEdW_list_total = []\n",
    "\n",
    "        #База индукции\n",
    "        w_0 = Neural_Network.initial_weights_matrix_generator(X_initial_batch, Y_initial_batch, n_hidden)\n",
    "        z_0, a_0 = Neural_Network.z_a_list_func(X_initial_batch, n_hidden, w_0)\n",
    "        p_0 = Neural_Network.prime(n_hidden, z_0)\n",
    "        dis_0 = Neural_Network.discrepansy(Y_initial_batch, a_0)\n",
    "        del_0 = Neural_Network.delta(Y_initial_batch, w_0, dis_0, p_0)\n",
    "        dEdW_0 = Neural_Network.dEdW(X_initial_batch, n_hidden, a_0, del_0)\n",
    "\n",
    "\n",
    "        w_list_total.append(w_0)\n",
    "        a_list_total.append(a_0)\n",
    "        z_list_total.append(z_0)\n",
    "        prime_list_total.append(p_0)\n",
    "        discrepansy_list_total.append(dis_0)\n",
    "        delta_list_total.append(del_0)\n",
    "        dEdW_list_total.append(dEdW_0)\n",
    "\n",
    "        for epoch in range(epochs):\n",
    "            \n",
    "            X_epoch_batch, Y_epoch_batch = Neural_Network.get_batch(X_normed, Y_normed, batch_size_)\n",
    "            \n",
    "            z_a_list_epoch = Neural_Network.z_a_list_func(X_epoch_batch, n_hidden, w_list_total[epoch])\n",
    "            a_list_total.append(z_a_list_epoch[1])\n",
    "            z_list_total.append(z_a_list_epoch[0])\n",
    "\n",
    "            prime_epoch = Neural_Network.prime(n_hidden, z_list_total[epoch])\n",
    "            prime_list_total.append(prime_epoch)\n",
    "\n",
    "            discrepansy_epoch = Neural_Network.discrepansy(Y_epoch_batch, a_list_total[epoch])\n",
    "            discrepansy_list_total.append(discrepansy_epoch)\n",
    "\n",
    "            delta_epoch = Neural_Network.delta(Y_epoch_batch, w_list_total[epoch], discrepansy_list_total[epoch], prime_list_total[epoch])\n",
    "            delta_list_total.append(delta_epoch)\n",
    "\n",
    "            dEdW_epoch = Neural_Network.dEdW(X_epoch_batch, n_hidden, a_list_total[epoch], delta_list_total[epoch])\n",
    "            dEdW_list_total.append(dEdW_epoch)\n",
    "\n",
    "            w_epoch = Neural_Network.weights_update(eta, w_list_total[epoch], dEdW_list_total[epoch])\n",
    "            w_list_total.append(w_epoch)\n",
    "\n",
    "        return a_list_total, z_list_total, prime_list_total, discrepansy_list_total, delta_list_total, dEdW_list_total, w_list_total\n",
    "    "
   ]
  },
  {
   "cell_type": "code",
   "execution_count": 8,
   "id": "5140a8d0",
   "metadata": {
    "pycharm": {
     "name": "#%%\n"
    }
   },
   "outputs": [],
   "source": [
    "n_hidden = [20, 5, 2]\n",
    "epochs = 3000\n",
    "eta = 0.005\n",
    "batch_size = 15"
   ]
  },
  {
   "cell_type": "code",
   "execution_count": 9,
   "id": "05b87803",
   "metadata": {
    "pycharm": {
     "name": "#%%\n"
    }
   },
   "outputs": [
    {
     "name": "stdout",
     "output_type": "stream",
     "text": [
      "CPU times: total: 10 s\n",
      "Wall time: 10 s\n"
     ]
    }
   ],
   "source": [
    "%%time\n",
    "NN_dis_SB_sgd = Neural_Network.SGD(X, Y, batch_size, n_hidden, epochs, eta)"
   ]
  },
  {
   "cell_type": "code",
   "execution_count": 11,
   "id": "098ddf0b",
   "metadata": {
    "pycharm": {
     "name": "#%%\n"
    }
   },
   "outputs": [],
   "source": [
    "def MSE(NN_discrepansy):\n",
    "    loss_list = []\n",
    "    for loss in range(len(NN_discrepansy)):\n",
    "        loss_epoch = 0.5*sum([(NN_discrepansy[loss][i][0])**2 for i in range(len(NN_discrepansy[loss]))])\n",
    "        loss_list.append(loss_epoch)\n",
    "    return loss_list\n",
    "\n",
    "MSE_list_SB = MSE(NN_dis_SB_sgd[3])"
   ]
  },
  {
   "cell_type": "code",
   "execution_count": 12,
   "id": "70329d4b",
   "metadata": {
    "pycharm": {
     "name": "#%%\n"
    }
   },
   "outputs": [
    {
     "data": {
      "image/png": "[encoded data removed]",
      "text/plain": [
       "<Figure size 800x600 with 1 Axes>"
      ]
     },
     "metadata": {},
     "output_type": "display_data"
    }
   ],
   "source": [
    "import matplotlib.pyplot as plt\n",
    "plt.figure(figsize=(8,6))\n",
    "plt.plot(range(2, len(MSE_list_SB)), MSE_list_SB[2:len(MSE_list_SB)], label=f'MSE {n_hidden}, epochs={epochs}, eta={eta}, batch_size = {batch_size}')\n",
    "plt.legend()\n",
    "plt.show()"
   ]
  },
  {
   "cell_type": "markdown",
   "id": "de382f4a",
   "metadata": {
    "pycharm": {
     "name": "#%% md\n"
    }
   },
   "source": [
    "# Модифицируем для задачи классификации"
   ]
  },
  {
   "cell_type": "markdown",
   "id": "e01af995",
   "metadata": {},
   "source": [
    "## Cross-entropy loss function and logistic regression "
   ]
  },
  {
   "cell_type": "markdown",
   "id": "e7bcf97d",
   "metadata": {},
   "source": [
    "The probability of the output <math>y=1</math> is given by\n",
    "$$q_{y=1} = \\hat{y} \\equiv g(\\mathbf{w}\\cdot\\mathbf{x}) = \\frac 1 {1+e^{-\\mathbf{w}\\cdot\\mathbf{x}}},$$\n",
    "where the vector of weights <math>\\mathbf{w}</math> is optimized through some appropriate algorithm such as [[gradient descent]]. Similarly, the complementary probability of finding the output <math>y=0</math> is simply given by\n",
    "$$q_{y=0} = 1-\\hat{y}$$\n",
    "\n",
    "Having set up our notation, $p\\in\\{y,1-y\\}$ and $q\\in\\{\\hat{y},1-\\hat{y}\\}$, we can use cross-entropy to get a measure of dissimilarity between <math>p</math> and <math>q</math>:\n",
    "$$H(p,q)\\ =\\ -\\sum_i p_i\\log q_i\\ =\\ -y\\log\\hat{y} - (1-y)\\log(1-\\hat{y})$$\n",
    "\n",
    "Logistic regression typically optimizes the log loss for all the observations on which it is trained, which is the same as optimizing the average cross-entropy in the sample. For example, suppose we have <math>N</math> samples with each sample indexed by $n=1,\\dots,N$. The ''average'' of the loss function is then given by:\n",
    "\n",
    "$$\\begin{align}\n",
    "    J(\\mathbf{w})\\ &=\\ \\frac1N\\sum_{n=1}^N H(p_n,q_n)\\ =\\ -\\frac1N\\sum_{n=1}^N\\ \\bigg[y_n  \\log \\hat y_n + (1 - y_n)  \\log (1 - \\hat y_n)\\bigg]\\,,\n",
    "\\end{align}$$\n",
    "\n",
    "where $\\hat{y}_n\\equiv g(\\mathbf{w}\\cdot\\mathbf{x}_n) = 1/(1+e^{-\\mathbf{w}\\cdot\\mathbf{x}_n}) $, with $g(z)$ the logistic function as before."
   ]
  },
  {
   "cell_type": "markdown",
   "id": "cce46985",
   "metadata": {},
   "source": [
    "'''Remark:''' The gradient of the cross-entropy loss for logistic regression is the same as the gradient of the squared error loss for [[linear regression]]. That is, define\n",
    "\n",
    "$$X^T=\\begin{pmatrix}\n",
    "1&x_{11}&\\dots&x_{1p}\\\\ \n",
    "1&x_{21}&\\cdots&x_{2p}\\\\ \n",
    "\\vdots & \\vdots && \\vdots \\\\\n",
    "1&x_{n1}&\\cdots&x_{np}\\\\ \n",
    "\\end{pmatrix}\\in \\mathbb{R}^{n\\times(p+1)}$$\n",
    "$$\\hat{y_i} = \\hat{f}(x_{i1},\\dots,x_{ip}) = \\frac{1}{1+\\exp(-\\beta_0-\\beta_1x_{i1}-\\dots-\\beta_px_{ip})}$$\n",
    "$$L(\\overrightarrow{\\beta})=-\\sum_{i=1}^N [y^i\\log \\hat{y}^i+(1-y^i)\\log(1-\\hat{y}^i)]$$\n",
    "\n",
    "Then we have the result \n",
    "\n",
    "$$\\frac{\\partial}{\\partial\\overrightarrow{\\beta}}L(\\overrightarrow{\\beta})=X^T(\\hat{Y}-Y)$$\n"
   ]
  },
  {
   "cell_type": "code",
   "execution_count": 13,
   "id": "01aa6786",
   "metadata": {},
   "outputs": [],
   "source": [
    "y_pred_lists = NN_dis_SB_sgd[0]"
   ]
  },
  {
   "cell_type": "code",
   "execution_count": 21,
   "id": "fac72c8c",
   "metadata": {},
   "outputs": [
    {
     "data": {
      "text/plain": [
       "3001"
      ]
     },
     "execution_count": 21,
     "metadata": {},
     "output_type": "execute_result"
    }
   ],
   "source": [
    "len(y_pred_lists) #равно числу эпох"
   ]
  },
  {
   "cell_type": "code",
   "execution_count": 27,
   "id": "1645b796",
   "metadata": {},
   "outputs": [
    {
     "data": {
      "text/plain": [
       "4"
      ]
     },
     "execution_count": 27,
     "metadata": {},
     "output_type": "execute_result"
    }
   ],
   "source": [
    "len(y_pred_lists[555]) #число скрытых слоёв+1"
   ]
  },
  {
   "cell_type": "code",
   "execution_count": 29,
   "id": "e907bf15",
   "metadata": {},
   "outputs": [
    {
     "data": {
      "text/plain": [
       "15"
      ]
     },
     "execution_count": 29,
     "metadata": {},
     "output_type": "execute_result"
    }
   ],
   "source": [
    "len(y_pred_lists[555][-1]) #вероятности для батча"
   ]
  },
  {
   "cell_type": "code",
   "execution_count": 34,
   "id": "c260f751",
   "metadata": {},
   "outputs": [
    {
     "data": {
      "text/plain": [
       "[(0.8606604573188482,),\n",
       " (0.8605728833991974,),\n",
       " (0.860512178813288,),\n",
       " (0.8604731601697146,),\n",
       " (0.860619169384352,),\n",
       " (0.860776900093749,),\n",
       " (0.8605157224218868,),\n",
       " (0.8605852631499843,),\n",
       " (0.8604280997144411,),\n",
       " (0.8604716198453995,),\n",
       " (0.8605215949394955,),\n",
       " (0.8606200911749083,),\n",
       " (0.8607575504601415,),\n",
       " (0.8606276142050772,),\n",
       " (0.860347776439648,)]"
      ]
     },
     "execution_count": 34,
     "metadata": {},
     "output_type": "execute_result"
    }
   ],
   "source": [
    "y_pred_lists[555][-1]"
   ]
  },
  {
   "cell_type": "code",
   "execution_count": 37,
   "id": "ea11c9ee",
   "metadata": {},
   "outputs": [
    {
     "data": {
      "text/plain": [
       "-0.15022339223437295"
      ]
     },
     "execution_count": 37,
     "metadata": {},
     "output_type": "execute_result"
    }
   ],
   "source": [
    "log(y_pred_lists[555][-1][6][0])"
   ]
  },
  {
   "cell_type": "code",
   "execution_count": 64,
   "id": "09f4b962",
   "metadata": {},
   "outputs": [
    {
     "data": {
      "text/plain": [
       "0.8595139189814986"
      ]
     },
     "execution_count": 64,
     "metadata": {},
     "output_type": "execute_result"
    }
   ],
   "source": [
    "-sum([(y_pred_lists[555][-1][i][0]*log(y_pred_lists[555][-1][i][0]+\n",
    "                                     (1-y_pred_lists[555][-1][i][0])*log(1-y_pred_lists[555][-1][i][0])))\n",
    "      for i in range(len(y_pred_lists[555][-1]))])/len(y_pred_lists[555][-1])"
   ]
  },
  {
   "cell_type": "code",
   "execution_count": 5,
   "id": "dc79a76f",
   "metadata": {},
   "outputs": [],
   "source": [
    "from math import log\n",
    "def BCE(y_pred_lists):\n",
    "    bce_list = []\n",
    "    for loss in range(len(y_pred_lists)):\n",
    "        bce_epoch = -sum([(y_pred_lists[loss][-1][i][0]*log(y_pred_lists[loss][-1][i][0]+\n",
    "                                     (1-y_pred_lists[loss][-1][i][0])*log(1-y_pred_lists[loss][-1][i][0])))\n",
    "      for i in range(len(y_pred_lists[loss][-1]))])/len(y_pred_lists[loss][-1])\n",
    "        bce_list.append(bce_epoch)\n",
    "    return bce_list\n",
    "\n"
   ]
  },
  {
   "cell_type": "code",
   "execution_count": null,
   "id": "901d8811",
   "metadata": {},
   "outputs": [],
   "source": [
    "BCE_list_SB = BCE(y_pred_lists)"
   ]
  },
  {
   "cell_type": "code",
   "execution_count": 77,
   "id": "a296f58a",
   "metadata": {},
   "outputs": [
    {
     "data": {
      "image/png": "[encoded data removed]",
      "text/plain": [
       "<Figure size 800x600 with 1 Axes>"
      ]
     },
     "metadata": {},
     "output_type": "display_data"
    }
   ],
   "source": [
    "import matplotlib.pyplot as plt\n",
    "plt.figure(figsize=(8,6))\n",
    "plt.plot(range(2, len(BCE_list_SB)), BCE_list_SB[2:len(BCE_list_SB)], label=f'BCE {n_hidden}, epochs={epochs}, eta={eta}, batch_size = {batch_size}')\n",
    "plt.legend()\n",
    "plt.show()"
   ]
  },
  {
   "cell_type": "markdown",
   "id": "72fad54a",
   "metadata": {},
   "source": [
    "# Протестируем нашу нейронную сеть на датасете с титаником"
   ]
  },
  {
   "cell_type": "code",
   "execution_count": 2,
   "id": "4dadccfb",
   "metadata": {},
   "outputs": [
    {
     "data": {
      "text/html": [
       "<div>\n",
       "<style scoped>\n",
       "    .dataframe tbody tr th:only-of-type {\n",
       "        vertical-align: middle;\n",
       "    }\n",
       "\n",
       "    .dataframe tbody tr th {\n",
       "        vertical-align: top;\n",
       "    }\n",
       "\n",
       "    .dataframe thead th {\n",
       "        text-align: right;\n",
       "    }\n",
       "</style>\n",
       "<table border=\"1\" class=\"dataframe\">\n",
       "  <thead>\n",
       "    <tr style=\"text-align: right;\">\n",
       "      <th></th>\n",
       "      <th>target</th>\n",
       "      <th>Pclass</th>\n",
       "      <th>Sex</th>\n",
       "      <th>Age</th>\n",
       "      <th>SibSp</th>\n",
       "      <th>Parch</th>\n",
       "      <th>Ticket</th>\n",
       "      <th>Fare</th>\n",
       "      <th>Embarked__C</th>\n",
       "      <th>Embarked__Q</th>\n",
       "      <th>Embarked__S</th>\n",
       "    </tr>\n",
       "  </thead>\n",
       "  <tbody>\n",
       "    <tr>\n",
       "      <th>0</th>\n",
       "      <td>0.0</td>\n",
       "      <td>1.0</td>\n",
       "      <td>0.0</td>\n",
       "      <td>0.271174</td>\n",
       "      <td>0.125</td>\n",
       "      <td>0.000000</td>\n",
       "      <td>0.102956</td>\n",
       "      <td>0.014151</td>\n",
       "      <td>0.0</td>\n",
       "      <td>0.0</td>\n",
       "      <td>1.0</td>\n",
       "    </tr>\n",
       "    <tr>\n",
       "      <th>1</th>\n",
       "      <td>1.0</td>\n",
       "      <td>0.0</td>\n",
       "      <td>1.0</td>\n",
       "      <td>0.472229</td>\n",
       "      <td>0.125</td>\n",
       "      <td>0.000000</td>\n",
       "      <td>0.036471</td>\n",
       "      <td>0.139136</td>\n",
       "      <td>1.0</td>\n",
       "      <td>0.0</td>\n",
       "      <td>0.0</td>\n",
       "    </tr>\n",
       "    <tr>\n",
       "      <th>2</th>\n",
       "      <td>1.0</td>\n",
       "      <td>1.0</td>\n",
       "      <td>1.0</td>\n",
       "      <td>0.321438</td>\n",
       "      <td>0.000</td>\n",
       "      <td>0.000000</td>\n",
       "      <td>0.097286</td>\n",
       "      <td>0.015469</td>\n",
       "      <td>0.0</td>\n",
       "      <td>0.0</td>\n",
       "      <td>1.0</td>\n",
       "    </tr>\n",
       "    <tr>\n",
       "      <th>3</th>\n",
       "      <td>1.0</td>\n",
       "      <td>0.0</td>\n",
       "      <td>1.0</td>\n",
       "      <td>0.434531</td>\n",
       "      <td>0.125</td>\n",
       "      <td>0.000000</td>\n",
       "      <td>0.036480</td>\n",
       "      <td>0.103644</td>\n",
       "      <td>0.0</td>\n",
       "      <td>0.0</td>\n",
       "      <td>1.0</td>\n",
       "    </tr>\n",
       "    <tr>\n",
       "      <th>4</th>\n",
       "      <td>0.0</td>\n",
       "      <td>1.0</td>\n",
       "      <td>0.0</td>\n",
       "      <td>0.434531</td>\n",
       "      <td>0.000</td>\n",
       "      <td>0.000000</td>\n",
       "      <td>0.120221</td>\n",
       "      <td>0.015713</td>\n",
       "      <td>0.0</td>\n",
       "      <td>0.0</td>\n",
       "      <td>1.0</td>\n",
       "    </tr>\n",
       "    <tr>\n",
       "      <th>...</th>\n",
       "      <td>...</td>\n",
       "      <td>...</td>\n",
       "      <td>...</td>\n",
       "      <td>...</td>\n",
       "      <td>...</td>\n",
       "      <td>...</td>\n",
       "      <td>...</td>\n",
       "      <td>...</td>\n",
       "      <td>...</td>\n",
       "      <td>...</td>\n",
       "      <td>...</td>\n",
       "    </tr>\n",
       "    <tr>\n",
       "      <th>886</th>\n",
       "      <td>0.0</td>\n",
       "      <td>0.5</td>\n",
       "      <td>0.0</td>\n",
       "      <td>0.334004</td>\n",
       "      <td>0.000</td>\n",
       "      <td>0.000000</td>\n",
       "      <td>0.068001</td>\n",
       "      <td>0.025374</td>\n",
       "      <td>0.0</td>\n",
       "      <td>0.0</td>\n",
       "      <td>1.0</td>\n",
       "    </tr>\n",
       "    <tr>\n",
       "      <th>887</th>\n",
       "      <td>1.0</td>\n",
       "      <td>0.0</td>\n",
       "      <td>1.0</td>\n",
       "      <td>0.233476</td>\n",
       "      <td>0.000</td>\n",
       "      <td>0.000000</td>\n",
       "      <td>0.035916</td>\n",
       "      <td>0.058556</td>\n",
       "      <td>0.0</td>\n",
       "      <td>0.0</td>\n",
       "      <td>1.0</td>\n",
       "    </tr>\n",
       "    <tr>\n",
       "      <th>888</th>\n",
       "      <td>0.0</td>\n",
       "      <td>1.0</td>\n",
       "      <td>1.0</td>\n",
       "      <td>0.183508</td>\n",
       "      <td>0.125</td>\n",
       "      <td>0.333333</td>\n",
       "      <td>0.097286</td>\n",
       "      <td>0.045771</td>\n",
       "      <td>0.0</td>\n",
       "      <td>0.0</td>\n",
       "      <td>1.0</td>\n",
       "    </tr>\n",
       "    <tr>\n",
       "      <th>889</th>\n",
       "      <td>1.0</td>\n",
       "      <td>0.0</td>\n",
       "      <td>0.0</td>\n",
       "      <td>0.321438</td>\n",
       "      <td>0.000</td>\n",
       "      <td>0.000000</td>\n",
       "      <td>0.035695</td>\n",
       "      <td>0.058556</td>\n",
       "      <td>1.0</td>\n",
       "      <td>0.0</td>\n",
       "      <td>0.0</td>\n",
       "    </tr>\n",
       "    <tr>\n",
       "      <th>890</th>\n",
       "      <td>0.0</td>\n",
       "      <td>1.0</td>\n",
       "      <td>0.0</td>\n",
       "      <td>0.396833</td>\n",
       "      <td>0.000</td>\n",
       "      <td>0.000000</td>\n",
       "      <td>0.119229</td>\n",
       "      <td>0.015127</td>\n",
       "      <td>0.0</td>\n",
       "      <td>1.0</td>\n",
       "      <td>0.0</td>\n",
       "    </tr>\n",
       "  </tbody>\n",
       "</table>\n",
       "<p>891 rows × 11 columns</p>\n",
       "</div>"
      ],
      "text/plain": [
       "     target  Pclass  Sex       Age  SibSp     Parch    Ticket      Fare  \\\n",
       "0       0.0     1.0  0.0  0.271174  0.125  0.000000  0.102956  0.014151   \n",
       "1       1.0     0.0  1.0  0.472229  0.125  0.000000  0.036471  0.139136   \n",
       "2       1.0     1.0  1.0  0.321438  0.000  0.000000  0.097286  0.015469   \n",
       "3       1.0     0.0  1.0  0.434531  0.125  0.000000  0.036480  0.103644   \n",
       "4       0.0     1.0  0.0  0.434531  0.000  0.000000  0.120221  0.015713   \n",
       "..      ...     ...  ...       ...    ...       ...       ...       ...   \n",
       "886     0.0     0.5  0.0  0.334004  0.000  0.000000  0.068001  0.025374   \n",
       "887     1.0     0.0  1.0  0.233476  0.000  0.000000  0.035916  0.058556   \n",
       "888     0.0     1.0  1.0  0.183508  0.125  0.333333  0.097286  0.045771   \n",
       "889     1.0     0.0  0.0  0.321438  0.000  0.000000  0.035695  0.058556   \n",
       "890     0.0     1.0  0.0  0.396833  0.000  0.000000  0.119229  0.015127   \n",
       "\n",
       "     Embarked__C  Embarked__Q  Embarked__S  \n",
       "0            0.0          0.0          1.0  \n",
       "1            1.0          0.0          0.0  \n",
       "2            0.0          0.0          1.0  \n",
       "3            0.0          0.0          1.0  \n",
       "4            0.0          0.0          1.0  \n",
       "..           ...          ...          ...  \n",
       "886          0.0          0.0          1.0  \n",
       "887          0.0          0.0          1.0  \n",
       "888          0.0          0.0          1.0  \n",
       "889          1.0          0.0          0.0  \n",
       "890          0.0          1.0          0.0  \n",
       "\n",
       "[891 rows x 11 columns]"
      ]
     },
     "execution_count": 2,
     "metadata": {},
     "output_type": "execute_result"
    }
   ],
   "source": [
    "import pandas as pd\n",
    "import numpy as np\n",
    "data_tit = pd.read_csv('titanic_processed_train.csv')\n",
    "data_tit"
   ]
  },
  {
   "cell_type": "code",
   "execution_count": 3,
   "id": "bb79e0c4",
   "metadata": {},
   "outputs": [],
   "source": [
    "col_tit_list = list(data_tit.columns)\n",
    "lists = []\n",
    "for k in np.arange(len(col_tit_list)):\n",
    "    list_k = list(data_tit[f'{col_tit_list[k]}'])\n",
    "    lists.append(list_k)"
   ]
  },
  {
   "cell_type": "code",
   "execution_count": 4,
   "id": "a929a64e",
   "metadata": {},
   "outputs": [],
   "source": [
    "X_tit, Y_tit = list(zip(*lists[1:len(lists)])), [[lists[-1][i]] for i in range(len(lists[1]))]"
   ]
  },
  {
   "cell_type": "code",
   "execution_count": 105,
   "id": "4b48d36d",
   "metadata": {},
   "outputs": [],
   "source": [
    "n_hidden = [4, 6, 8, 5, 2]\n",
    "epochs = 10000\n",
    "eta = 0.001\n",
    "batch_size = 10"
   ]
  },
  {
   "cell_type": "code",
   "execution_count": 106,
   "id": "4ba13cac",
   "metadata": {},
   "outputs": [
    {
     "name": "stdout",
     "output_type": "stream",
     "text": [
      "CPU times: total: 25.7 s\n",
      "Wall time: 25.8 s\n"
     ]
    }
   ],
   "source": [
    "%%time\n",
    "NN_tit = Neural_Network.SGD(X_tit, Y_tit, batch_size, n_hidden, epochs, eta)"
   ]
  },
  {
   "cell_type": "code",
   "execution_count": 107,
   "id": "9ee4eb54",
   "metadata": {},
   "outputs": [],
   "source": [
    "y_pred_lists_tit = NN_tit[0]\n",
    "BCE_list_tit = BCE(y_pred_lists_tit)"
   ]
  },
  {
   "cell_type": "code",
   "execution_count": 108,
   "id": "5c0131f4",
   "metadata": {},
   "outputs": [
    {
     "data": {
      "image/png": "[encoded data removed]",
      "text/plain": [
       "<Figure size 800x600 with 1 Axes>"
      ]
     },
     "metadata": {},
     "output_type": "display_data"
    }
   ],
   "source": [
    "import matplotlib.pyplot as plt\n",
    "plt.figure(figsize=(8,6))\n",
    "plt.plot(range(2, len(BCE_list_tit)), BCE_list_tit[2:len(BCE_list_tit)], label=f'BCE {n_hidden}, epochs={epochs}, eta={eta}, batch_size = {batch_size}')\n",
    "plt.legend()\n",
    "plt.show()"
   ]
  },
  {
   "cell_type": "markdown",
   "id": "7fcef64e",
   "metadata": {},
   "source": [
    "# Перепишем  класс в терминах ООП"
   ]
  },
  {
   "cell_type": "code",
   "execution_count": 16,
   "id": "7a39061a",
   "metadata": {},
   "outputs": [],
   "source": [
    "class Neural_Network(object):\n",
    "    def __init__(self, batch_size, n_hidden, eta, epochs): \n",
    "        self.batch_size = batch_size\n",
    "        self.n_hidden = n_hidden\n",
    "        self.eta = eta\n",
    "        self.epochs = epochs\n",
    "        \n",
    "    @staticmethod\n",
    "    def norm_matrix(matrix):\n",
    "\n",
    "        matrix_transpose = list(zip(*matrix))\n",
    "\n",
    "        matrix_empty = []\n",
    "        for m in range(len(matrix_transpose)):\n",
    "            normed_row = [abs(list(zip(*matrix))[m][x])/max(list(zip(*matrix))[m]) for x in range(len(list(zip(*matrix))[m]))]\n",
    "            matrix_empty.append(normed_row)\n",
    "\n",
    "        normed_matrix = list(zip(*matrix_empty))\n",
    "\n",
    "        return normed_matrix\n",
    "        \n",
    "    \n",
    "    @staticmethod\n",
    "    def random_number():\n",
    "        import datetime    \n",
    "        my_dt_ob = datetime.datetime.now()\n",
    "        date_list = [my_dt_ob.year, my_dt_ob.month, my_dt_ob.day, my_dt_ob.hour, my_dt_ob.minute, my_dt_ob.second, my_dt_ob.microsecond]     \n",
    "        dt_random_num = date_list[6]**(1/(date_list[5]+0.0001))*date_list[4]\n",
    "        return dt_random_num  \n",
    "    \n",
    "    @staticmethod\n",
    "    def random_list_generator(list_len):\n",
    "        my_random_list = []\n",
    "        for i in range(list_len):\n",
    "            my_random_list_i = (i+1)*(Neural_Network.random_number()*(i+1)-i*2)\n",
    "            my_random_list.append(my_random_list_i-round(my_random_list_i))\n",
    "        return my_random_list\n",
    "   \n",
    "    @staticmethod\n",
    "    def random_matrix_generator(rows_len, cols_len):\n",
    "        my_random_chain = Neural_Network.random_list_generator(rows_len * cols_len)   \n",
    "        nev = [my_random_chain[i:i+cols_len] for i in range(0,len(my_random_chain), cols_len)]\n",
    "        return nev\n",
    "\n",
    "    @staticmethod\n",
    "    def sigmoid(z):\n",
    "        from math import exp\n",
    "        # exp = 2.71828182845904523536028747135266249775724709369995\n",
    "        try:\n",
    "          res =  1. / (1. + exp(-z))#1/(1+exp(-z))\n",
    "        except OverflowError:\n",
    "          res = float('inf')\n",
    "        return res\n",
    "    \n",
    "    @staticmethod\n",
    "    def sigmoid_prime(z):\n",
    "        from math import exp\n",
    "        # exp = 2.71828182845904523536028747135266249775724709369995\n",
    "        try:\n",
    "          res =  exp(-z) / (1. + exp(-z))**2 #exp(-z)/((1+exp(-z))**2)\n",
    "        except OverflowError:\n",
    "          res = float('inf')\n",
    "        return res\n",
    "        # return exp(-z)/((1+exp(-z))**2)\n",
    "\n",
    "    @staticmethod\n",
    "    def matrix_multiple(a, b):\n",
    "        zip_b = zip(*b)\n",
    "        zip_b = list(zip_b)\n",
    "        return [[sum(ele_a*ele_b for ele_a, ele_b in zip(row_a, col_b)) \n",
    "                 for col_b in zip_b] for row_a in a]\n",
    "    \n",
    "    @staticmethod\n",
    "    def matrix_diff(matrix1, matrix2):   \n",
    "        empty_chain = [None]*len(matrix1)*len(matrix1[0])\n",
    "        matrix_diff = [empty_chain[i:i+len(matrix1[0])] for i in range(0, len(empty_chain), len(matrix1[0]))]\n",
    "        for ii in range(len(matrix1)):\n",
    "            for jj in range(len(matrix1[0])):\n",
    "                matrix_diff[ii][jj] = matrix1[ii][jj] - matrix2[ii][jj]\n",
    "        return matrix_diff\n",
    "    \n",
    "    @staticmethod\n",
    "    def num_matrix(n, matrix):\n",
    "        return [list(map(lambda x: x*n, z)) for z in matrix]\n",
    "    \n",
    "    @staticmethod\n",
    "    def get_batch(matrix_X, matrix_Y, batch_size):\n",
    "        index_list = [int(abs(Neural_Network.random_list_generator(batch_size)[q])*len(matrix_X)) for q in range(batch_size)]\n",
    "        batch_X, batch_Y = [], []\n",
    "        for ind in range(len(index_list)):\n",
    "            batch_X_row = matrix_X[index_list[ind]]\n",
    "            batch_X.append(batch_X_row)\n",
    "            batch_Y_row = matrix_Y[index_list[ind]]\n",
    "            batch_Y.append(batch_Y_row)\n",
    "        return batch_X, batch_Y, index_list\n",
    "    \n",
    "    \n",
    "    def initial_weights_matrix_generator(self, matrix_X, matrix_Y):\n",
    "        w_rows_list = [len(matrix_X[0])] + self.n_hidden\n",
    "        w_cols_list = self.n_hidden +[len(matrix_Y[0])]\n",
    "        w_dim_list = list(zip(w_rows_list, w_cols_list))\n",
    "        self.initial_weights_matrix_list = []\n",
    "        for iw in range(len(w_dim_list)):\n",
    "            W_i = Neural_Network.random_matrix_generator(w_dim_list[iw][0], w_dim_list[iw][1])\n",
    "            self.initial_weights_matrix_list.append(W_i)\n",
    "        return self.initial_weights_matrix_list\n",
    "      \n",
    "    \n",
    "    def z_a_list_func(self, X_, weights):\n",
    "        z_initial = Neural_Network.matrix_multiple(X_, weights[0])\n",
    "        a_initial =  [*zip(*[[Neural_Network.sigmoid(z_initial[i][j]) for i in range(len(z_initial))] for j in range(len(z_initial[0]))])]\n",
    "\n",
    "        self.z_list = []\n",
    "        self.z_list.append(z_initial)\n",
    "\n",
    "        self.a_list = []\n",
    "        self.a_list.append(a_initial)\n",
    "\n",
    "        for g in range(len(self.n_hidden)):\n",
    "            z_g = Neural_Network.matrix_multiple(self.a_list[g], weights[g+1])\n",
    "            self.z_list.append(z_g)\n",
    "            a_g = [*zip(*[[Neural_Network.sigmoid(self.z_list[g+1][a][b]) for a in range(len(self.z_list[g+1]))] for b in range(len(self.z_list[g+1][0]))])]\n",
    "            self.a_list.append(a_g)\n",
    "        return self.z_list, self.a_list\n",
    "    \n",
    "       \n",
    "    def prime(self, z_list_):\n",
    "        self.prime_list = []\n",
    "        for p in range(len(self.n_hidden)+1):\n",
    "            prime_list_p = [*zip(*[[Neural_Network.sigmoid_prime(z_list_[p][i][j]) for i in range(len(z_list_[p]))] for j in range(len(z_list_[p][0]))])]\n",
    "            self.prime_list.append(prime_list_p)\n",
    "        return self.prime_list\n",
    "    \n",
    "    \n",
    "    def discrepansy(self, Y_, a_list_):\n",
    "        self.discrepansy_list = []\n",
    "        for yy in range(len(Y_)):\n",
    "            dis_i = Y_[yy][0] - a_list_[-1][yy][0] #Neural_Network.matrix_diff(Y[yy], a_list_[-1][yy])  #\n",
    "            self.discrepansy_list.append(dis_i)\n",
    "        self.discrepansy_list = [self.discrepansy_list[i:i+len(Y_[0])] for i in range(0,len(Y_), len(Y_[0]))]\n",
    "        return self.discrepansy_list\n",
    "    \n",
    "        \n",
    "    def delta(self, Y_delta, weights_delta, discrepansy_, prime_):\n",
    "        delta_last = [[discrepansy_[qi][0]*prime_[-1][qi][0] for qi in range(len(Y_delta))][iq:iq+len(Y_delta[0])] for iq in range(0,len(Y_delta), len(Y_delta[0]))] \n",
    "        self.delta_list = []\n",
    "        self.delta_list.append(delta_last)\n",
    "        for d in range(len(self.n_hidden)):\n",
    "            delta_i = Neural_Network.matrix_multiple(self.delta_list[0], Neural_Network.matrix_multiple([*zip(*weights_delta[-d-1])], prime_[-d-2]))\n",
    "            self.delta_list.insert(0, delta_i)\n",
    "        return self.delta_list\n",
    "    \n",
    "      \n",
    "    def dEdW(self, X_de, a_list_, delta_):\n",
    "        self.dEdW_list = []\n",
    "        corr_list = [X_de]+a_list_[0:len(a_list_)-1]\n",
    "        for e in range(len(self.n_hidden)+1):\n",
    "            dEdW_e = Neural_Network.matrix_multiple([*zip(*corr_list[e])], delta_[e])\n",
    "            self.dEdW_list.append(dEdW_e)\n",
    "        return self.dEdW_list\n",
    "    \n",
    "      \n",
    "    def weights_update(self, weights_u, dEdW_f):\n",
    "        self.w_updated_matrix = []\n",
    "        for n in range(len(self.n_hidden)+1):\n",
    "            w_updated_n = Neural_Network.matrix_diff(weights_u[n], Neural_Network.num_matrix(-self.eta, dEdW_f[n]))\n",
    "            self.w_updated_matrix.append(w_updated_n)\n",
    "        return  self.w_updated_matrix\n",
    "    \n",
    "    \n",
    "    def SGD(self, X_c, Y_c):\n",
    "        \n",
    "        X_normed = Neural_Network.norm_matrix(X_c)\n",
    "        Y_normed = Neural_Network.norm_matrix(Y_c)\n",
    "        \n",
    "        X_initial_batch, Y_initial_batch, index_lists_initial = Neural_Network.get_batch(X_normed, Y_normed, self.batch_size)\n",
    "        \n",
    "        w_list_total = []\n",
    "        a_list_total= []\n",
    "        z_list_total= []\n",
    "        prime_list_total = []\n",
    "        discrepansy_list_total = []\n",
    "        delta_list_total = []\n",
    "        dEdW_list_total = []\n",
    "        index_lists_total = []\n",
    "\n",
    "        #База индукции\n",
    "        w_0 = self.initial_weights_matrix_generator(X_initial_batch, Y_initial_batch)\n",
    "        z_0, a_0 = self.z_a_list_func(X_initial_batch, w_0)\n",
    "        p_0 = self.prime(z_0)\n",
    "        dis_0 = self.discrepansy(Y_initial_batch, a_0)\n",
    "        del_0 = self.delta(Y_initial_batch, w_0, dis_0, p_0)\n",
    "        dEdW_0 = self.dEdW(X_initial_batch, a_0, del_0)\n",
    "\n",
    "\n",
    "        w_list_total.append(w_0)\n",
    "        a_list_total.append(a_0)\n",
    "        z_list_total.append(z_0)\n",
    "        prime_list_total.append(p_0)\n",
    "        discrepansy_list_total.append(dis_0)\n",
    "        delta_list_total.append(del_0)\n",
    "        dEdW_list_total.append(dEdW_0)\n",
    "        index_lists_total.append(index_lists_initial)\n",
    "        \n",
    "        for epoch in range(epochs):\n",
    "            \n",
    "            X_epoch_batch, Y_epoch_batch, index_lists_epoch = Neural_Network.get_batch(X_normed, Y_normed, self.batch_size)\n",
    "            index_lists_total.append(index_lists_epoch)\n",
    "            \n",
    "            z_a_list_epoch = self.z_a_list_func(X_epoch_batch, w_list_total[epoch])\n",
    "            a_list_total.append(z_a_list_epoch[1])\n",
    "            z_list_total.append(z_a_list_epoch[0])\n",
    "\n",
    "            prime_epoch = self.prime(z_list_total[epoch])\n",
    "            prime_list_total.append(prime_epoch)\n",
    "\n",
    "            discrepansy_epoch = self.discrepansy(Y_epoch_batch, a_list_total[epoch])\n",
    "            discrepansy_list_total.append(discrepansy_epoch)\n",
    "\n",
    "            delta_epoch = self.delta(Y_epoch_batch, w_list_total[epoch], discrepansy_list_total[epoch], prime_list_total[epoch])\n",
    "            delta_list_total.append(delta_epoch)\n",
    "\n",
    "            dEdW_epoch = self.dEdW(X_epoch_batch, a_list_total[epoch], delta_list_total[epoch])\n",
    "            dEdW_list_total.append(dEdW_epoch)\n",
    "\n",
    "            w_epoch = self.weights_update(w_list_total[epoch], dEdW_list_total[epoch])\n",
    "            w_list_total.append(w_epoch)\n",
    "\n",
    "        return a_list_total, z_list_total, prime_list_total, discrepansy_list_total, delta_list_total, dEdW_list_total, w_list_total, index_lists_total\n",
    "    "
   ]
  },
  {
   "cell_type": "code",
   "execution_count": 77,
   "id": "d49a142c",
   "metadata": {},
   "outputs": [],
   "source": [
    "n_hidden = [6, 14, 10, 5]\n",
    "epochs = 5000\n",
    "eta = 0.007\n",
    "batch_size = 10"
   ]
  },
  {
   "cell_type": "code",
   "execution_count": 78,
   "id": "de646560",
   "metadata": {},
   "outputs": [],
   "source": [
    "NN_OOP = Neural_Network(batch_size, n_hidden, eta, epochs)"
   ]
  },
  {
   "cell_type": "code",
   "execution_count": 79,
   "id": "95d46832",
   "metadata": {},
   "outputs": [
    {
     "name": "stdout",
     "output_type": "stream",
     "text": [
      "CPU times: total: 20.4 s\n",
      "Wall time: 20.5 s\n"
     ]
    }
   ],
   "source": [
    "%%time\n",
    "NN_OOP_tit = NN_OOP.SGD(X_tit, Y_tit)"
   ]
  },
  {
   "cell_type": "code",
   "execution_count": 83,
   "id": "c9a18ba4",
   "metadata": {},
   "outputs": [],
   "source": [
    "y_pred_lists_tit_OOP = NN_OOP_tit[0]\n",
    "BCE_list_tit_OOP = BCE(y_pred_lists_tit_OOP)"
   ]
  },
  {
   "cell_type": "code",
   "execution_count": 84,
   "id": "3f339a76",
   "metadata": {},
   "outputs": [
    {
     "data": {
      "image/png": "[encoded data removed]",
      "text/plain": [
       "<Figure size 800x600 with 1 Axes>"
      ]
     },
     "metadata": {},
     "output_type": "display_data"
    }
   ],
   "source": [
    "import matplotlib.pyplot as plt\n",
    "plt.figure(figsize=(8,6))\n",
    "plt.plot(range(len(BCE_list_tit_OOP)), BCE_list_tit_OOP, label=f'BCE {n_hidden}, epochs={epochs}, eta={eta}, batch_size = {batch_size}')\n",
    "plt.legend()\n",
    "plt.show()"
   ]
  },
  {
   "cell_type": "markdown",
   "id": "bfff6416",
   "metadata": {},
   "source": [
    "Результат последнего батча:"
   ]
  },
  {
   "cell_type": "code",
   "execution_count": 82,
   "id": "12a3c98f",
   "metadata": {},
   "outputs": [
    {
     "data": {
      "text/plain": [
       "[(0.5050417826137132,),\n",
       " (0.5048859570276817,),\n",
       " (0.5050925893126984,),\n",
       " (0.5050008853330655,),\n",
       " (0.5050024390697903,),\n",
       " (0.5049361327731016,),\n",
       " (0.5048427442902652,),\n",
       " (0.5049578925121458,),\n",
       " (0.50504077584948,),\n",
       " (0.5050921543405893,)]"
      ]
     },
     "execution_count": 82,
     "metadata": {},
     "output_type": "execute_result"
    }
   ],
   "source": [
    "result_last = NN_OOP_tit[0][54][-1]\n",
    "result_last"
   ]
  },
  {
   "cell_type": "markdown",
   "id": "dea10c31",
   "metadata": {},
   "source": [
    "Использованные индексы в последнем батче:"
   ]
  },
  {
   "cell_type": "code",
   "execution_count": 64,
   "id": "40f41e4a",
   "metadata": {},
   "outputs": [
    {
     "data": {
      "text/plain": [
       "[48, 191, 430, 124, 306, 58, 326, 391, 314, 333, 443, 232, 73, 415, 81]"
      ]
     },
     "execution_count": 64,
     "metadata": {},
     "output_type": "execute_result"
    }
   ],
   "source": [
    "index_last = NN_OOP_tit[-1][-1]\n",
    "index_last "
   ]
  },
  {
   "cell_type": "markdown",
   "id": "aa9ea26f",
   "metadata": {},
   "source": [
    "Сопоставим эти индескы с исходным Y:"
   ]
  },
  {
   "cell_type": "code",
   "execution_count": 65,
   "id": "2de5214b",
   "metadata": {},
   "outputs": [],
   "source": [
    "epoched_tit = []\n",
    "for ep in range(len(index_last)):\n",
    "    Y_tit_ep = Y_tit[index_last[ep]][0]\n",
    "    epoched_tit.append(Y_tit_ep )"
   ]
  },
  {
   "cell_type": "code",
   "execution_count": 66,
   "id": "eaf98523",
   "metadata": {},
   "outputs": [
    {
     "data": {
      "text/plain": [
       "[0.0, 1.0, 1.0, 1.0, 0.0, 1.0, 1.0, 1.0, 1.0, 1.0, 1.0, 1.0, 0.0, 1.0, 1.0]"
      ]
     },
     "execution_count": 66,
     "metadata": {},
     "output_type": "execute_result"
    }
   ],
   "source": [
    "epoched_tit"
   ]
  },
  {
   "cell_type": "code",
   "execution_count": null,
   "id": "c5d1e143",
   "metadata": {},
   "outputs": [],
   "source": []
  }
 ],
 "metadata": {
  "kernelspec": {
   "display_name": "Python 3",
   "language": "python",
   "name": "python3"
  },
  "language_info": {
   "codemirror_mode": {
    "name": "ipython",
    "version": 3
   },
   "file_extension": ".py",
   "mimetype": "text/x-python",
   "name": "python",
   "nbconvert_exporter": "python",
   "pygments_lexer": "ipython3",
   "version": "3.9.7"
  }
 },
 "nbformat": 4,
 "nbformat_minor": 5
}
